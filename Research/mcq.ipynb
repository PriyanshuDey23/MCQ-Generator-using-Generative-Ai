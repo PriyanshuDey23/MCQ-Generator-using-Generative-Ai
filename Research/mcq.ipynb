{
 "cells": [
  {
   "cell_type": "code",
   "execution_count": 1,
   "metadata": {},
   "outputs": [],
   "source": [
    "import os\n",
    "import json\n",
    "import pandas as pd\n",
    "import traceback\n",
    "from dotenv import load_dotenv"
   ]
  },
  {
   "cell_type": "code",
   "execution_count": 2,
   "metadata": {},
   "outputs": [
    {
     "data": {
      "text/plain": [
       "'e:\\\\MCQ-Generator-using-Generative-Ai'"
      ]
     },
     "execution_count": 2,
     "metadata": {},
     "output_type": "execute_result"
    }
   ],
   "source": [
    "# Change directory\n",
    "%pwd\n",
    "os.chdir(\"../\")\n",
    "%pwd"
   ]
  },
  {
   "cell_type": "code",
   "execution_count": 3,
   "metadata": {},
   "outputs": [],
   "source": [
    "# Load the Google api key\n",
    "load_dotenv()\n",
    "GOOGLE_API_KEY=os.getenv(\"GOOGLE_API_KEY\")"
   ]
  },
  {
   "cell_type": "code",
   "execution_count": 4,
   "metadata": {},
   "outputs": [
    {
     "name": "stderr",
     "output_type": "stream",
     "text": [
      "c:\\Users\\HP\\anaconda3\\envs\\ten\\lib\\site-packages\\tqdm\\auto.py:21: TqdmWarning: IProgress not found. Please update jupyter and ipywidgets. See https://ipywidgets.readthedocs.io/en/stable/user_install.html\n",
      "  from .autonotebook import tqdm as notebook_tqdm\n"
     ]
    }
   ],
   "source": [
    "from langchain_google_genai import ChatGoogleGenerativeAI\n",
    "llm = ChatGoogleGenerativeAI(model=\"gemini-2.0-flash\",temperature=0.2)"
   ]
  },
  {
   "cell_type": "code",
   "execution_count": 5,
   "metadata": {},
   "outputs": [],
   "source": [
    "from langchain.prompts import PromptTemplate\n",
    "from langchain.chains.llm import LLMChain\n",
    "from langchain.chains.sequential import SequentialChain\n",
    "from langchain_community.callbacks import get_openai_callback\n"
   ]
  },
  {
   "cell_type": "code",
   "execution_count": 6,
   "metadata": {},
   "outputs": [],
   "source": [
    "RESPONSE_JSON = {\n",
    "    \"1\": {\n",
    "        \"mcq\": \"multiple choice question\",\n",
    "        \"options\": {\n",
    "            \"a\": \"choice here\",\n",
    "            \"b\": \"choice here\",\n",
    "            \"c\": \"choice here\",\n",
    "            \"d\": \"choice here\",\n",
    "        },\n",
    "        \"correct\": \"correct answer\",\n",
    "    },\n",
    "    \"2\": {\n",
    "        \"mcq\": \"multiple choice question\",\n",
    "        \"options\": {\n",
    "            \"a\": \"choice here\",\n",
    "            \"b\": \"choice here\",\n",
    "            \"c\": \"choice here\",\n",
    "            \"d\": \"choice here\",\n",
    "        },\n",
    "        \"correct\": \"correct answer\",\n",
    "    },\n",
    "    \"3\": {\n",
    "        \"mcq\": \"multiple choice question\",\n",
    "        \"options\": {\n",
    "            \"a\": \"choice here\",\n",
    "            \"b\": \"choice here\",\n",
    "            \"c\": \"choice here\",\n",
    "            \"d\": \"choice here\",\n",
    "        },\n",
    "        \"correct\": \"correct answer\",\n",
    "    },\n",
    "}\n"
   ]
  },
  {
   "cell_type": "code",
   "execution_count": 7,
   "metadata": {},
   "outputs": [],
   "source": [
    "TEMPLATE=\"\"\"\n",
    "Text:{text}\n",
    "You are an expert MCQ maker. Given the above text, it is your job to \\\n",
    "create a quiz  of {number} multiple choice questions for {subject} students in {tone} tone. \n",
    "Make sure the questions are not repeated and check all the questions to be conforming the text as well.\n",
    "Make sure to format your response like  RESPONSE_JSON below  and use it as a guide. \\\n",
    "Ensure to make {number} MCQs\n",
    "### RESPONSE_JSON\n",
    "{response_json}\n",
    "\n",
    "\"\"\""
   ]
  },
  {
   "cell_type": "code",
   "execution_count": 8,
   "metadata": {},
   "outputs": [],
   "source": [
    "quiz_generation_prompt = PromptTemplate(\n",
    "    input_variables=[\"text\", \"number\", \"subject\", \"tone\", \"response_json\"], # Varible user are going to pass\n",
    "    template=TEMPLATE\n",
    "    )\n"
   ]
  },
  {
   "cell_type": "code",
   "execution_count": 9,
   "metadata": {},
   "outputs": [
    {
     "name": "stderr",
     "output_type": "stream",
     "text": [
      "C:\\Users\\HP\\AppData\\Local\\Temp\\ipykernel_11356\\1298319415.py:2: LangChainDeprecationWarning: The class `LLMChain` was deprecated in LangChain 0.1.17 and will be removed in 1.0. Use :meth:`~RunnableSequence, e.g., `prompt | llm`` instead.\n",
      "  quiz_chain=LLMChain(llm=llm, prompt=quiz_generation_prompt, output_key=\"quiz\", verbose=True)\n"
     ]
    }
   ],
   "source": [
    "# Quiz chain\n",
    "quiz_chain=LLMChain(llm=llm, prompt=quiz_generation_prompt, output_key=\"quiz\", verbose=True)"
   ]
  },
  {
   "cell_type": "code",
   "execution_count": 10,
   "metadata": {},
   "outputs": [],
   "source": [
    "# Check if the quiz is correct or not\n",
    "TEMPLATE2=\"\"\"\n",
    "You are an expert english grammarian and writer. Given a Multiple Choice Quiz for {subject} students.\\\n",
    "You need to evaluate the complexity of the question and give a complete analysis of the quiz. Only use at max 50 words for complexity analysis. \n",
    "if the quiz is not at per with the cognitive and analytical abilities of the students,\\\n",
    "update the quiz questions which needs to be changed and change the tone such that it perfectly fits the student abilities\n",
    "Quiz_MCQs:\n",
    "{quiz}\n",
    "\n",
    "Check from an expert English Writer of the above quiz:\n",
    "\"\"\"\n",
    "# quiz :- output key"
   ]
  },
  {
   "cell_type": "code",
   "execution_count": 11,
   "metadata": {},
   "outputs": [],
   "source": [
    "quiz_evaluation_prompt=PromptTemplate(input_variables=[\"subject\", \"quiz\"], template=TEMPLATE)"
   ]
  },
  {
   "cell_type": "code",
   "execution_count": 12,
   "metadata": {},
   "outputs": [],
   "source": [
    "# Review chain\n",
    "review_chain=LLMChain(llm=llm, prompt=quiz_evaluation_prompt, output_key=\"review\", verbose=True)"
   ]
  },
  {
   "cell_type": "code",
   "execution_count": 13,
   "metadata": {},
   "outputs": [],
   "source": [
    "# Connect both the chain\n",
    "# Generate quiz chain and passing to review chain\n",
    "generate_evaluate_chain=SequentialChain(chains=[quiz_chain, review_chain], input_variables=[\"text\", \"number\", \"subject\", \"tone\", \"response_json\"],\n",
    "                                        output_variables=[\"quiz\", \"review\"], verbose=True)"
   ]
  },
  {
   "cell_type": "code",
   "execution_count": null,
   "metadata": {},
   "outputs": [],
   "source": [
    "# Any one method will run (One Pdf)\n",
    "# Extracting Data from pdf in form of list :- First Method\n",
    "# from langchain_community.document_loaders import PyPDFLoader\n",
    "\n",
    "# loader = PyPDFLoader(\"Data/transformer.pdf\")\n",
    "# data = loader.load()  "
   ]
  },
  {
   "cell_type": "code",
   "execution_count": 14,
   "metadata": {},
   "outputs": [],
   "source": [
    "# Extract Data From the PDF File:- Multiple pdf from a single folder\n",
    "from langchain.document_loaders import PyPDFLoader, DirectoryLoader\n",
    "def load_pdf_file(data):\n",
    "    loader= DirectoryLoader(data,\n",
    "                            glob=\"*.pdf\",  # Load Only Pdf documents\n",
    "                            loader_cls=PyPDFLoader)\n",
    "\n",
    "    documents=loader.load()\n",
    "\n",
    "    return documents"
   ]
  },
  {
   "cell_type": "code",
   "execution_count": 15,
   "metadata": {},
   "outputs": [
    {
     "data": {
      "text/plain": [
       "[Document(metadata={'source': 'Data\\\\transformer.pdf', 'page': 0, 'page_label': '1'}, page_content=\"Transformer  \\nelectrical transformer is a static electrical machine which transforms electrical power from one circuit to \\nanother circuit, without changing the frequency. Transformer can increase or decrease the voltage with \\ncorresponding decrease or increase in current. \\nWorking principle of transformer \\n \\n The basic principle behind working of a transformer is the phenomenon of mutual induction between two \\nwindings linked by common magnetic flux. The figure at right shows the simplest form of a transformer. \\nBasically a transformer consists of two inductive coils; primary winding and secondary winding. The coils are \\nelectrically separated but magnetically linked to each other. When, primary winding is connected to a source of \\nalternating voltage, alternating magnetic flux is produced around the winding. The core provides magnetic path \\nfor the flux, to get linked with the secondary winding. Most of the flux gets linked with the secondary winding \\nwhich is called as 'useful flux' or main 'flux', and the flux which does not get linked with secondary winding is \\ncalled as 'leakage flux'.  As the flux produced is alternating (the direction of it is continuously changing), EMF \\ngets induced in the secondary winding according to Faraday's law of electromagnetic induction. This emf is \\ncalled 'mutually induced emf', and the frequency of mutually induced emf is same as that of supplied emf. If the \\nsecondary winding is closed circuit, then mutually induced current flows through it, and hence the electrical \\nenergy is transferred from one circuit (primary) to another circuit (secondary). \\n \\nBasic construction of transformer \\nBasically a transformer consists of two inductive windings and a laminated steel core. The coils are insulated \\nfrom each other as well as from the steel core. A transformer may also consist of a container for winding and \\ncore assembly (called as tank), suitable bushings to take our the terminals, oil conservator to provide oil in the \\ntransformer tank for cooling purposes etc. The figure at left illustrates the basic construction of a transformer. \\n In all types of transformers, core is constructed by assembling (stacking) laminated sheets of steel, with \\nminimum air-gap between them (to achieve continuous magnetic path). The steel used is having high silicon \\ncontent and sometimes heat treated, to provide high permeability and low hysteresis loss. Laminated sheets of \\nsteel are used to reduce eddy current loss. The sheets are cut in the shape as E,I and L. To avoid high reluctance \\n\"),\n",
       " Document(metadata={'source': 'Data\\\\transformer.pdf', 'page': 1, 'page_label': '2'}, page_content='at joints, laminations are stacked by alternating the sides of joint. That is, if joints of first sheet assembly are at \\nfront face, the joints of following assemble are kept at back face. \\n \\n \\nTypes of transformers \\nTransformers can be classified on different basis, like types of construction, types of cooling etc. \\n \\n(A) On the basis of construction, transformers can be classified into two types as;  \\n(i) Core type transformer and (ii) Shell type transformer, which are described below. \\n \\n(i) Core type transformer \\nIn core type transformer, windings are cylindrical former wound, mounted on  the core limbs as shown in the \\nfigure above. The cylindrical coils have different layers and each layer is insulated from each other. Materials \\nlike paper, cloth or mica can be used for insulation. Low voltage windings are placed nearer to the core, as they \\nare easier to insulate. \\n'),\n",
       " Document(metadata={'source': 'Data\\\\transformer.pdf', 'page': 2, 'page_label': '3'}, page_content=\"(ii) Shell type transformer \\nThe coils are former wound and mounted in layers stacked with insulation between them. A shell type \\ntransformer may have simple rectangular form (as shown in above fig), or  it may have a distributed form. \\n \\n(B) On the basis of their purpose \\n1. Step up transformer: Voltage increases (with subsequent decrease in current) at secondary. \\n2. Step down transformer: Voltage decreases (with subsequent increase in current) at secondary. \\n \\n(C) On the basis of type of supply \\n1. Single phase transformer \\n2. Three phase transformer \\n3.  \\n(D) On the basis of their use \\n1. Power transformer: Used in transmission network, high rating \\n2. Distribution transformer: Used in distribution network, comparatively lower rating than that of power \\ntransformers. \\n3. Instrument transformer: Used in relay and protection purpose in different instruments in industries \\n▪  Current transformer (CT) \\n▪ Potential transformer (PT) \\n▪  \\nOpen circuit and Short circuit Test on transformer \\nThese two transformer tests are performed to find the parameters of equivalent circuit of transformer and losses \\nof the transformer. Open circuit test and short circuit test on transformer are very economical and convenient \\nbecause they are performed without actually loading of the transformer. \\n \\nOpen circuit or No load test on Transformer \\n \\nOpen circuit test or no load test on a transformer is performed to determine 'no load loss (core loss)' and 'no load \\ncurrent I0'. The circuit diagram for open circuit test is shown in the figure below. \\n \\nUsually high voltage (HV) winding is kept open and the low voltage (LV) winding is connected to its normal \\nsupply. A wattmeter (W), ammeter (A) and voltmeter (V) are connected to the LV winding as shown in the \\n\"),\n",
       " Document(metadata={'source': 'Data\\\\transformer.pdf', 'page': 3, 'page_label': '4'}, page_content='figure. Now, applied voltage is slowly increased from zero to normal rated value of the LV side with the help of \\na variac. When the applied voltage reaches to the rated value of the LV winding, readings from all the three \\ninstruments are taken. \\nThe ammeter reading gives the no load current I0. As I0 itself is very small, the voltage drops due to this current \\ncan be neglected. \\nThe input power is indicated by the wattmeter (W). And as the other side of transformer is open circuited, there \\nis no output power. Hence, this input power only consists of core losses and copper losses. As described above, \\nno-load current is so small that these copper losses can be neglected. Hence, now the input power is almost \\nequal to the core losses. Thus, the wattmeter reading gives the core losses of the transformer. \\nSometimes, a high resistance voltmeter is connected across the HV winding. Though, a voltmeter is connected, \\nHV winding can be treated as open circuit as the current through the voltmeter is negligibly small. This helps in \\nto find voltage transformation ratio (K). \\nThe two components of no load current can be given as, \\n \\nIμ = I0sinΦ0   and    Iw = I0cosΦ0. \\ncosΦ0 (no load power factor) = W / (V1I0). ... (W = wattmeter reading) \\n \\nFrom this, shunt parameters of equivalent circuit parameters of equivalent circuit of transformer (X0 and R0) can \\nbe calculated as \\n \\nX0 = V1/Iμ  and  R0 = V1/Iw. \\n \\n(These values are referring to LV side of the transformer.) \\nHence, it is seen that open circuit test gives core losses of transformer and shunt parameters of the equivalent \\ncircuit. \\n \\nShort circuit or Impedance test on Transformer \\n \\nThe connection diagram for short circuit test or impedance test on transformer is as shown in the figure \\nbelow. The LV side of transformer is short circuited and wattmeter (W), voltmere (V) and ammeter (A) are \\nconnected on the HV side of the transformer. Voltage is applied to the HV side and increased from the zero \\nuntil the ammeter reading equals the rated current. All the readings are taken at this rated current. \\nThe ammeter reading gives primary equivalent of full load current (Isc). \\nThe voltage applied for full load current is very small as compared to rated voltage. Hence, core loss due to \\nsmall applied voltage can be neglected. Thus, the wattmeter reading can be taken as copper loss in the \\ntransformer. \\nTherefore, W = Isc2Req....... (where Req is the equivalent resistance of transformer) \\n Zeq = Vsc/Isc. \\nTherefore, equivalent reactance of transformer can be calculated from the formula  Zeq2 = Req2 + Xeq2. \\nThese, values are referred to the HV side of the transformer. \\nHence, it is seen that the short circuit test gives copper losses of transformer and approximate equivalent '),\n",
       " Document(metadata={'source': 'Data\\\\transformer.pdf', 'page': 4, 'page_label': '5'}, page_content=\"resistance and reactance of the transformer. \\n \\nWhy Transformers are rated in kVA? \\nFrom the above transformer tests, it can be seen that Cu loss of a transformer depends on current, and \\niron loss depends on voltage. Thus, total transformer loss depends on volt-ampere (VA). It does not \\ndepend on the phase angle between voltage and current, i.e. transformer loss is independent of load \\npower factor. This is the reason that transformers are rated in kVA. \\nLosses in transformer \\n \\nIn any electrical machine, 'loss' can be defined as the difference between input power and output power. \\nAn electrical transformer is an static device, hence mechanical losses (like windage or friction losses) are absent \\nin it. A transformer only consists of electrical losses (iron losses and copper losses). Transformer losses are \\nsimilar to losses in a DC machine, except that transformers do not have mechanical losses. \\nLosses in transformer are explained below - \\n \\n(i) Core losses or Iron losses \\nEddy current loss and hysteresis loss depend upon the magnetic properties of the material used for the \\nconstruction of core. Hence these losses are also known as core losses or iron losses. \\n▪ Hysteresis loss in transformer: Hysteresis loss is due to reversal of magnetization in the transformer core. \\nThis loss depends upon the volume and grade of the iron, frequency of magnetic reversals and value of flux \\ndensity. It can be given by, Steinmetz formula: \\nWh= ηBmax1.6fV (watts) \\nwhere,   η = Steinmetz hysteresis constant \\n             V = volume of the core in m3 \\n▪ Eddy current loss in transformer: In transformer, AC current is supplied to the primary winding which \\nsets up alternating magnetizing flux. When this flux links with secondary winding, it produces induced emf \\nin it. But some part of this flux also gets linked with other conducting parts like steel core or iron body or \\nthe transformer, which will result in induced emf in those parts, causing small circulating current in them. \\nThis current is called as eddy current. Due to these eddy currents, some energy will be dissipated in the form \\nof heat. \\n (ii) Copper loss in transformer \\nCopper loss is due to ohmic resistance of the transformer windings.  Copper loss for the primary winding is \\nI12R1 and for secondary winding is I22R2. Where, I1 and I2 are current in primary and secondary winding \\n\"),\n",
       " Document(metadata={'source': 'Data\\\\transformer.pdf', 'page': 5, 'page_label': '6'}, page_content='respectively, R1 and R2 are the resistances of primary and secondary winding respectively. It is clear that Cu \\nloss is proportional to square of the current, and current depends on the load. Hence copper loss in transformer \\nvaries with the load. \\n \\nEfficiency of Transformer \\n \\nJust like any other electrical machine, efficiency of a transformer can be defined as the output power divided \\nby the input power. That is  efficiency = output / input . \\nTransformers are the most highly efficient electrical devices. Most of the transformers have full load efficiency \\nbetween 95% to 98.5% . As a transformer being highly efficient, output and input are having nearly same value, \\nand hence it is impractical to measure the efficiency of transformer by using output / input. A better method to \\nfind efficiency of a transformer is using, efficiency = (input - losses) / input = 1 - (losses / input). \\nCondition for maximum efficiency \\nLet, \\nCopper loss = I12R1 \\nIron loss = Wi \\n \\n'),\n",
       " Document(metadata={'source': 'Data\\\\transformer.pdf', 'page': 6, 'page_label': '7'}, page_content='Hence, efficiency of a transformer will be maximum when copper loss and iron losses are equal. \\nThat is Copper loss = Iron loss. \\nAll day efficiency of transformer \\n \\nAs we have seen above, ordinary or commercial efficiency of a transformer can be given as \\n \\n \\nBut in some types of transformers, their performance can not be judged by this efficiency. For example, \\ndistribution transformers have their primaries energized all the time. But, their secondaries supply little load all \\nno-load most of the time during day (as residential use of electricity is observed mostly during evening till \\nmidnight). \\nThat is, when secondaries of transformer are not supplying any load (or supplying only little load), then only \\ncore losses of transformer are considerable and copper losses are absent (or very little). Copper losses are \\nconsiderable only when transformers are loaded. Thus, for such transformers copper losses are relatively less \\nimportant.  The performance of such transformers is compared on the basis of energy consumed in one day. \\n \\nAll day efficiency of a transformer is always less than ordinary efficiency of it \\nEMF equation of a transformer and Voltage Transformation Ratio \\n \\nIn a transformer, source of alternating current is applied to the primary winding. Due to this, the current in the \\nprimary winding (called as magnetizing current) produces alternating flux in the core of transformer. This \\nalternating flux gets linked with the secondary winding, and because of the phenomenon of mutual induction an \\nemf gets induced in the secondary winding. Magnitude of this induced emf can be found by using the \\nfollowing EMF equation of the transformer. \\nEMF equation of the Transformer \\nLet, \\nN1 = Number of turns in primary winding \\nN2 = Number of turns in secondary winding \\nΦm = Maximum flux in the core (in Wb) = (Bm x A) \\nf = frequency of the AC supply (in Hz) \\n'),\n",
       " Document(metadata={'source': 'Data\\\\transformer.pdf', 'page': 7, 'page_label': '8'}, page_content=' \\n \\nAs, shown in the fig., the flux rises sinusoidally to its maximum value Φm from 0. It reaches to the maximum \\nvalue in one quarter of the cycle i.e in T/4 sec (where, T is time period of the sin wave of the supply = 1/f). \\nTherefore, \\naverage rate of change of flux = Φm /(T/4)    = Φm /(1/4f) \\nTherefore, \\naverage rate of change of flux = 4f Φm       ....... (Wb/s). \\nNow, \\nInduced emf per turn = rate of change of flux per turn \\n \\nTherefore, average emf per turn = 4f Φm   ..........(Volts). Now, we know,  Form factor = RMS value / average \\nvalue \\nTherefore, RMS value of emf per turn = Form factor X average emf per turn. \\n \\nAs, the flux Φ varies sinusoidally, form factor of a sine wave is 1.11 \\nTherefore, RMS value of emf per turn =  1.11 x 4f Φm = 4.44f Φm. \\nRMS value of induced emf in whole primary winding (E1) = RMS value of emf per turn X Number of turns in \\nprimary winding \\n \\n          E1 = 4.44f N1 Φm          ............................. eq 1 \\nSimilarly, RMS induced emf in secondary winding (E2) can be given as \\n \\n          E2 = 4.44f N2 Φm.          ............................ eq 2 \\n \\nfrom the above equations 1 and 2, \\n \\nThis is called the emf equation of transformer, which shows, emf / number of turns is same for both primary \\nand secondary winding. \\n \\n'),\n",
       " Document(metadata={'source': 'Data\\\\transformer.pdf', 'page': 8, 'page_label': '9'}, page_content='For an ideal transformer on no load, E1 = V1 and E2 = V2 . \\nwhere, V1 = supply voltage of primary winding \\n            V2 = terminal voltage of secondary winding \\nVoltage Transformation Ratio (K) \\nAs derived above, \\n \\nWhere, K = constant \\nThis constant K is known as voltage transformation ratio. \\n \\n▪ If N2 > N1, i.e. K > 1, then the transformer is called step-up transformer. \\n▪ If N2 < N1, i.e. K < 1, then the transformer is called step-down transformer. \\n▪  \\nEquivalent circuit of Transformer \\n \\nn a practical transformer - \\n(a) Some leakage flux is present at both primary and secondary sides. This leakage gives rise to leakage \\nreactances at both sides, which are denoted as X1 and X2 respectively. \\n(b) Both the primary and secondary winding possesses resistance, denoted as R1 and R2 respectively. These \\nresistances causes voltage drop as, I1R1 and I2R2 and also copper loss I12R1 and I22R2. \\n(c) Permeability of the core can not be infinite, hence some magnetizing current is needed. Mutual flux also \\ncauses core loss in iron parts of the transformer. \\nEquivalent circuit of transformer \\n \\nResistances and reactances of transformer, which are described above, can be imagined separately from the \\nwindings (as shown in the figure below). Hence, the function of windings, thereafter, will only be the \\ntransforming the voltage. \\n \\nThe no load current I0 is divided into, pure inductance X0 (taking magnetizing components Iμ) and non \\ninduction resistance R0 (taking working component Iw) which are connected into parallel across the primary. \\n'),\n",
       " Document(metadata={'source': 'Data\\\\transformer.pdf', 'page': 9, 'page_label': '10'}, page_content=\"The value of E1 can be obtained by subtracting I1Z1 from V1. The value of R0 and X0 can be calculated as, R0 = \\nE1 / Iw and X0 = E1 / Iμ. \\nBut, using this equivalent circuit does not simplifies the calculations. To make calculations simpler, it is \\npreferable to transfer current, voltage and impedance either to primary side or to the secondary side. In that \\ncase, we would have to work with only one winding which is more convenient. \\n \\nFrom the voltage transformation ratio, it is clear that, \\nE1 / E2 = N1 / N2 = K \\n \\nNow, lets refer the parameters of secondary side to primary. \\nZ2 can be referred to primary as Z2' \\nwhere, Z2' = (N1/N2)2Z2 = K2Z2.   ............where K= N1/N2. \\nthat is, R2'+jX2' = K2(R2+jX2) \\nequating real and imaginary parts, \\nR2' =  K2R2 and X2' = K2X2 . \\nAnd V2' = KV2 \\nThe following figure shows the equivalent circuit of transformer with secondary parameters referred to \\nthe primary. \\n \\nNow, as the values of winding resistance and leakage reactance are so small that, V1 and E1 can be assumed to \\nbe equal. Therefore, the exciting current drawn by the parallel combination of  R0 and X0 would not affect \\nsignificantly, if we move it to the input terminals as shown in the figure below. \\n \\n\"),\n",
       " Document(metadata={'source': 'Data\\\\transformer.pdf', 'page': 10, 'page_label': '11'}, page_content=\" \\nNow, let R1 + R2' = R'eq  and X1 + X2' = X'eq \\nThen the equivalent circuit of transformer becomes as shown in the figure below \\n \\nApproximate equivalent circuit of transformer \\nIf only voltage regulation is to be calculated, then even the whole excitation branch (parallel combination of R0 \\nand X0) can be neglected. Then the equivalent circuit becomes as shown in the figure below \\n \\nTransformer on No Load Condition \\nWhen the transformer is operating at no load, the secondary winding is open-circuited, which means there is no \\nload on the secondary side of the transformer and, therefore, current in the secondary will be zero. While \\nprimary winding carries a small current I0 called no-load current which is 2 to 10% of the rated current. \\nThis current is responsible for supplying the iron losses (hysteresis and eddy current losses) in the core and a \\nvery small amount of copper losses in the primary winding. The angle of lag depends upon the losses in the \\ntransformer. The power factor is very low and varies from 0.1 to 0.15. \\n\"),\n",
       " Document(metadata={'source': 'Data\\\\transformer.pdf', 'page': 11, 'page_label': '12'}, page_content='The no-load current consists of two \\ncomponents: \\n• Reactive or magnetizing component Im \\n(It is in quadrature with the applied voltage V1. It produces flux in the core and does not consume any power). \\n• Active or power component Iw, also know as a working component \\n(It is in phase with the applied voltage V1. It supplies the iron losses and a small amount of primary copper \\nloss). \\nThe following steps are given below to draw the phasor diagram: \\n1. The function of the magnetizing component is to produce the magnetizing flux, and thus, it will be in phase \\nwith the flux. \\n2. Induced emf in the primary and the secondary winding lags the flux ϕ by 90 degrees. \\n3. The primary copper loss is neglected, and secondary current losses are zero as \\nI2 = 0. \\nTherefore, the current I0 lags behind the voltage vector V1 by an angle ϕ0 called the no-load power factor angle \\nand is shown in the phasor diagram above. \\n4. The applied voltage V1 is drawn equal and opposite to the induced emf E1 because the difference between the \\ntwo, at no load, is negligible. \\n5. Active component Iw is drawn in phase with the applied voltage V1. \\n6. The phasor sum of magnetizing current Im and the working current Iw gives the no-load current I0. \\n'),\n",
       " Document(metadata={'source': 'Data\\\\transformer.pdf', 'page': 12, 'page_label': '13'}, page_content='7. From the phasor diagram drawn above, the following \\nconclusions are made  \\nTransformer On Load Condition \\nWhen the transformer is on the loaded condition, the secondary of the transformer is connected to load. The \\nload can be resistive, inductive or capacitive. The current I2 flows through the secondary winding of the \\ntransformer. The magnitude of the secondary current depends on the terminal voltage V2 and the load \\nimpedance. The phase angle between the secondary current and voltage depends on the nature of the load. \\nOperation of the Transformer on Load Condition \\nThe Operation of the Transformer on Load Condition is explained below: \\n• When the secondary of the transformer is kept open, it draws the no-load current from the main supply. The no-\\nload current induces the magnetomotive force N0I0 and this force set up the flux Φ in the core of the \\ntransformer. The circuit of the transformer at no load condition is shown in the figure below: \\n'),\n",
       " Document(metadata={'source': 'Data\\\\transformer.pdf', 'page': 13, 'page_label': '14'}, page_content='•  \\no When the load is connected to the secondary of the transformer, I2 current flows through their secondary \\nwinding. The secondary current induces the magnetomotive force N2I2 on the secondary winding of the \\ntransformer. This force set up the flux φ2 in the transformer core. The flux φ2 opposes the flux φ, according \\nto Lenz’s law. \\n \\n▪ As the flux φ2 opposes the flux φ, the resultant flux of the transformer decreases and this flux reduces the \\ninduced EMF E1. Thus, the strength of the V1 is more than E1 and an additional primary current I’1 drawn from \\nthe main supply. \\nThe additional current is used for restoring the original value of the flux in the core of the transformer so that \\nV1 = E1. The primary current I’1 is in phase opposition with the secondary current I2. Thus, it is called \\nthe primary counter-balancing current. \\n▪ The additional current I’1 induces the magnetomotive force N1I’1. And this force set up the flux φ’1. The \\ndirection of the flux is the same as that of the φ and it cancels the flux φ2 which induces because of the MMF \\nN2I2 \\n'),\n",
       " Document(metadata={'source': 'Data\\\\transformer.pdf', 'page': 14, 'page_label': '15'}, page_content='Now, N1I1’ = N2I2 \\nTherefore,  \\n• The phase difference between V1 and I1 gives the power factor angle ϕ1 of the primary side of the transformer. \\n• The power factor of the secondary side depends upon the type of load connected to the transformer. \\n• If the load is inductive as shown in the above phasor diagram, the power factor will be lagging, and if the load is \\ncapacitive, the power factor will be leading. The total primary current I1 is the vector sum of the currents I0 and \\nI1’. i.e \\n \\nPhasor Diagram of Transformer on Inductive Load \\nThe phasor diagram of the actual transformer when it is loaded inductively is shown below: \\n \\n'),\n",
       " Document(metadata={'source': 'Data\\\\transformer.pdf', 'page': 15, 'page_label': '16'}, page_content='Phasor Diagram of the Transformer on Inductive Load \\nSteps to draw the phasor diagram \\n• Take flux ϕ, a reference \\n• Induces emf E1 and E2 lags the flux by 90 degrees. \\n• The component of the applied voltage to the primary equal and opposite to induced emf in the primary winding. \\nE1 is represented by V1’. \\n• Current I0 lags the voltage V1’ by 90 degrees. \\n• The power factor of the load is lagging. Therefore current I2 is drawn lagging E2 by an angle ϕ2. \\n• The resistance and the leakage reactance of the windings result in a voltage drop, and hence secondary terminal \\nvoltage V2 is the phase difference of E2 and voltage drop. \\nV2 = E2 – voltage drops \\nI2 R2 is in phase with I2 and I2X2 is in quadrature with I2. \\n• The total current flowing in the primary winding is the phasor sum of I1’ and I0. \\n• Primary applied voltage V1 is the phasor sum of V1’ and the voltage drop in the primary winding. \\n• Current I1’ is drawn equal and opposite to the current I2 \\nV1 = V1’ + voltage drop \\nI1R1 is in phase with I1 and I1XI is in quadrature with I1. \\n• The phasor difference between V1 and I1 gives the power factor angle ϕ1 of the primary side of the transformer. \\n• The power factor of the secondary side depends upon the type of load connected to the transformer. \\n• If the load is inductive as shown in the above phasor diagram, the power factor will be lagging, and if the load is \\ncapacitive, the power factor will be leading.       Where I1R1 is the resistive drop in the primary windings \\nI2X2 is the reactive drop in the secondary winding \\nSimilarly \\nPhasor Diagram of Transformer on Capacitive Load \\nThe Transformer on the Capacitive load (leading power factor load) is shown below in the phasor diagram. \\nSteps to draw the phasor diagram at capacitive load \\n• Take flux ϕ a reference \\n• Induces emf E1 and E2 lags the flux by 90 degrees. \\n• The component of the applied voltage to the primary equal and opposite to induced emf in the primary winding. \\nE1 is represented by V1’. \\n• Current I0 lags the voltage V1’ by 90 degrees. \\n• The power factor of the load is leading. Therefore current I2 is drawn leading E2 \\n• The resistance and the leakage reactance of the windings result in a voltage drop, and hence secondary terminal \\nvoltage V2 is the phasor difference of E2 and voltage drop. \\nV2 = E2 – voltage drops \\nI2 R2 is in phase with I2 and I2X2 is in quadrature with I2. \\n• Current I1’ is drawn equal and opposite to the current I2 '),\n",
       " Document(metadata={'source': 'Data\\\\transformer.pdf', 'page': 16, 'page_label': '17'}, page_content='• The total current I1 flowing in the primary winding is the phasor sum of I1’ and I0. \\n• Primary applied voltage V1 is the phasor sum of V1’ and the voltage drop in the primary winding. \\nV1 = V1’ + voltage drop \\nI1R1 is in phase with I1 and I1XI is in quadrature with I1. \\n• The phasor difference between V1 and I1 gives the power factor angle ϕ1 of the primary side of the transformer. \\n• The power factor of the secondary side depends upon the type of load connected to the transformer. \\nThis is all about the phasor diagram on various loads. \\n \\n \\nPhasor Diagram of the Transformer on Capacitive Load \\n \\n \\n')]"
      ]
     },
     "execution_count": 15,
     "metadata": {},
     "output_type": "execute_result"
    }
   ],
   "source": [
    "# Load pdf from the data folder\n",
    "extracted_data=load_pdf_file(data='Data/')\n",
    "extracted_data"
   ]
  },
  {
   "cell_type": "code",
   "execution_count": 16,
   "metadata": {},
   "outputs": [
    {
     "data": {
      "text/plain": [
       "'{\"1\": {\"mcq\": \"multiple choice question\", \"options\": {\"a\": \"choice here\", \"b\": \"choice here\", \"c\": \"choice here\", \"d\": \"choice here\"}, \"correct\": \"correct answer\"}, \"2\": {\"mcq\": \"multiple choice question\", \"options\": {\"a\": \"choice here\", \"b\": \"choice here\", \"c\": \"choice here\", \"d\": \"choice here\"}, \"correct\": \"correct answer\"}, \"3\": {\"mcq\": \"multiple choice question\", \"options\": {\"a\": \"choice here\", \"b\": \"choice here\", \"c\": \"choice here\", \"d\": \"choice here\"}, \"correct\": \"correct answer\"}}'"
      ]
     },
     "execution_count": 16,
     "metadata": {},
     "output_type": "execute_result"
    }
   ],
   "source": [
    "# Serialize the Python dictionary into a JSON-formatted string\n",
    "json.dumps(RESPONSE_JSON)"
   ]
  },
  {
   "cell_type": "code",
   "execution_count": 17,
   "metadata": {},
   "outputs": [],
   "source": [
    "NUMBER=5  # Five quiz\n",
    "SUBJECT=\"Transformer\"\n",
    "TONE=\"simple\"\n",
    "TEXT = extracted_data"
   ]
  },
  {
   "cell_type": "code",
   "execution_count": 18,
   "metadata": {},
   "outputs": [
    {
     "data": {
      "text/plain": [
       "SequentialChain(verbose=True, chains=[LLMChain(verbose=True, prompt=PromptTemplate(input_variables=['number', 'response_json', 'subject', 'text', 'tone'], input_types={}, partial_variables={}, template='\\nText:{text}\\nYou are an expert MCQ maker. Given the above text, it is your job to create a quiz  of {number} multiple choice questions for {subject} students in {tone} tone. \\nMake sure the questions are not repeated and check all the questions to be conforming the text as well.\\nMake sure to format your response like  RESPONSE_JSON below  and use it as a guide. Ensure to make {number} MCQs\\n### RESPONSE_JSON\\n{response_json}\\n\\n'), llm=ChatGoogleGenerativeAI(model='models/gemini-2.0-flash', google_api_key=SecretStr('**********'), temperature=0.2, client=<google.ai.generativelanguage_v1beta.services.generative_service.client.GenerativeServiceClient object at 0x000002C3A9C3CEE0>, default_metadata=()), output_key='quiz', output_parser=StrOutputParser(), llm_kwargs={}), LLMChain(verbose=True, prompt=PromptTemplate(input_variables=['number', 'response_json', 'subject', 'text', 'tone'], input_types={}, partial_variables={}, template='\\nText:{text}\\nYou are an expert MCQ maker. Given the above text, it is your job to create a quiz  of {number} multiple choice questions for {subject} students in {tone} tone. \\nMake sure the questions are not repeated and check all the questions to be conforming the text as well.\\nMake sure to format your response like  RESPONSE_JSON below  and use it as a guide. Ensure to make {number} MCQs\\n### RESPONSE_JSON\\n{response_json}\\n\\n'), llm=ChatGoogleGenerativeAI(model='models/gemini-2.0-flash', google_api_key=SecretStr('**********'), temperature=0.2, client=<google.ai.generativelanguage_v1beta.services.generative_service.client.GenerativeServiceClient object at 0x000002C3A9C3CEE0>, default_metadata=()), output_key='review', output_parser=StrOutputParser(), llm_kwargs={})], input_variables=['text', 'number', 'subject', 'tone', 'response_json'], output_variables=['quiz', 'review'])"
      ]
     },
     "execution_count": 18,
     "metadata": {},
     "output_type": "execute_result"
    }
   ],
   "source": [
    "generate_evaluate_chain"
   ]
  },
  {
   "cell_type": "code",
   "execution_count": 19,
   "metadata": {},
   "outputs": [
    {
     "name": "stderr",
     "output_type": "stream",
     "text": [
      "C:\\Users\\HP\\AppData\\Local\\Temp\\ipykernel_11356\\3383662798.py:4: LangChainDeprecationWarning: The method `Chain.__call__` was deprecated in langchain 0.1.0 and will be removed in 1.0. Use :meth:`~invoke` instead.\n",
      "  response=generate_evaluate_chain(\n"
     ]
    },
    {
     "name": "stdout",
     "output_type": "stream",
     "text": [
      "\n",
      "\n",
      "\u001b[1m> Entering new SequentialChain chain...\u001b[0m\n",
      "\n",
      "\n",
      "\u001b[1m> Entering new LLMChain chain...\u001b[0m\n",
      "Prompt after formatting:\n",
      "\u001b[32;1m\u001b[1;3m\n",
      "Text:[Document(metadata={'source': 'Data\\\\transformer.pdf', 'page': 0, 'page_label': '1'}, page_content=\"Transformer  \\nelectrical transformer is a static electrical machine which transforms electrical power from one circuit to \\nanother circuit, without changing the frequency. Transformer can increase or decrease the voltage with \\ncorresponding decrease or increase in current. \\nWorking principle of transformer \\n \\n The basic principle behind working of a transformer is the phenomenon of mutual induction between two \\nwindings linked by common magnetic flux. The figure at right shows the simplest form of a transformer. \\nBasically a transformer consists of two inductive coils; primary winding and secondary winding. The coils are \\nelectrically separated but magnetically linked to each other. When, primary winding is connected to a source of \\nalternating voltage, alternating magnetic flux is produced around the winding. The core provides magnetic path \\nfor the flux, to get linked with the secondary winding. Most of the flux gets linked with the secondary winding \\nwhich is called as 'useful flux' or main 'flux', and the flux which does not get linked with secondary winding is \\ncalled as 'leakage flux'.  As the flux produced is alternating (the direction of it is continuously changing), EMF \\ngets induced in the secondary winding according to Faraday's law of electromagnetic induction. This emf is \\ncalled 'mutually induced emf', and the frequency of mutually induced emf is same as that of supplied emf. If the \\nsecondary winding is closed circuit, then mutually induced current flows through it, and hence the electrical \\nenergy is transferred from one circuit (primary) to another circuit (secondary). \\n \\nBasic construction of transformer \\nBasically a transformer consists of two inductive windings and a laminated steel core. The coils are insulated \\nfrom each other as well as from the steel core. A transformer may also consist of a container for winding and \\ncore assembly (called as tank), suitable bushings to take our the terminals, oil conservator to provide oil in the \\ntransformer tank for cooling purposes etc. The figure at left illustrates the basic construction of a transformer. \\n In all types of transformers, core is constructed by assembling (stacking) laminated sheets of steel, with \\nminimum air-gap between them (to achieve continuous magnetic path). The steel used is having high silicon \\ncontent and sometimes heat treated, to provide high permeability and low hysteresis loss. Laminated sheets of \\nsteel are used to reduce eddy current loss. The sheets are cut in the shape as E,I and L. To avoid high reluctance \\n\"), Document(metadata={'source': 'Data\\\\transformer.pdf', 'page': 1, 'page_label': '2'}, page_content='at joints, laminations are stacked by alternating the sides of joint. That is, if joints of first sheet assembly are at \\nfront face, the joints of following assemble are kept at back face. \\n \\n \\nTypes of transformers \\nTransformers can be classified on different basis, like types of construction, types of cooling etc. \\n \\n(A) On the basis of construction, transformers can be classified into two types as;  \\n(i) Core type transformer and (ii) Shell type transformer, which are described below. \\n \\n(i) Core type transformer \\nIn core type transformer, windings are cylindrical former wound, mounted on  the core limbs as shown in the \\nfigure above. The cylindrical coils have different layers and each layer is insulated from each other. Materials \\nlike paper, cloth or mica can be used for insulation. Low voltage windings are placed nearer to the core, as they \\nare easier to insulate. \\n'), Document(metadata={'source': 'Data\\\\transformer.pdf', 'page': 2, 'page_label': '3'}, page_content=\"(ii) Shell type transformer \\nThe coils are former wound and mounted in layers stacked with insulation between them. A shell type \\ntransformer may have simple rectangular form (as shown in above fig), or  it may have a distributed form. \\n \\n(B) On the basis of their purpose \\n1. Step up transformer: Voltage increases (with subsequent decrease in current) at secondary. \\n2. Step down transformer: Voltage decreases (with subsequent increase in current) at secondary. \\n \\n(C) On the basis of type of supply \\n1. Single phase transformer \\n2. Three phase transformer \\n3.  \\n(D) On the basis of their use \\n1. Power transformer: Used in transmission network, high rating \\n2. Distribution transformer: Used in distribution network, comparatively lower rating than that of power \\ntransformers. \\n3. Instrument transformer: Used in relay and protection purpose in different instruments in industries \\n▪  Current transformer (CT) \\n▪ Potential transformer (PT) \\n▪  \\nOpen circuit and Short circuit Test on transformer \\nThese two transformer tests are performed to find the parameters of equivalent circuit of transformer and losses \\nof the transformer. Open circuit test and short circuit test on transformer are very economical and convenient \\nbecause they are performed without actually loading of the transformer. \\n \\nOpen circuit or No load test on Transformer \\n \\nOpen circuit test or no load test on a transformer is performed to determine 'no load loss (core loss)' and 'no load \\ncurrent I0'. The circuit diagram for open circuit test is shown in the figure below. \\n \\nUsually high voltage (HV) winding is kept open and the low voltage (LV) winding is connected to its normal \\nsupply. A wattmeter (W), ammeter (A) and voltmeter (V) are connected to the LV winding as shown in the \\n\"), Document(metadata={'source': 'Data\\\\transformer.pdf', 'page': 3, 'page_label': '4'}, page_content='figure. Now, applied voltage is slowly increased from zero to normal rated value of the LV side with the help of \\na variac. When the applied voltage reaches to the rated value of the LV winding, readings from all the three \\ninstruments are taken. \\nThe ammeter reading gives the no load current I0. As I0 itself is very small, the voltage drops due to this current \\ncan be neglected. \\nThe input power is indicated by the wattmeter (W). And as the other side of transformer is open circuited, there \\nis no output power. Hence, this input power only consists of core losses and copper losses. As described above, \\nno-load current is so small that these copper losses can be neglected. Hence, now the input power is almost \\nequal to the core losses. Thus, the wattmeter reading gives the core losses of the transformer. \\nSometimes, a high resistance voltmeter is connected across the HV winding. Though, a voltmeter is connected, \\nHV winding can be treated as open circuit as the current through the voltmeter is negligibly small. This helps in \\nto find voltage transformation ratio (K). \\nThe two components of no load current can be given as, \\n \\nIμ = I0sinΦ0   and    Iw = I0cosΦ0. \\ncosΦ0 (no load power factor) = W / (V1I0). ... (W = wattmeter reading) \\n \\nFrom this, shunt parameters of equivalent circuit parameters of equivalent circuit of transformer (X0 and R0) can \\nbe calculated as \\n \\nX0 = V1/Iμ  and  R0 = V1/Iw. \\n \\n(These values are referring to LV side of the transformer.) \\nHence, it is seen that open circuit test gives core losses of transformer and shunt parameters of the equivalent \\ncircuit. \\n \\nShort circuit or Impedance test on Transformer \\n \\nThe connection diagram for short circuit test or impedance test on transformer is as shown in the figure \\nbelow. The LV side of transformer is short circuited and wattmeter (W), voltmere (V) and ammeter (A) are \\nconnected on the HV side of the transformer. Voltage is applied to the HV side and increased from the zero \\nuntil the ammeter reading equals the rated current. All the readings are taken at this rated current. \\nThe ammeter reading gives primary equivalent of full load current (Isc). \\nThe voltage applied for full load current is very small as compared to rated voltage. Hence, core loss due to \\nsmall applied voltage can be neglected. Thus, the wattmeter reading can be taken as copper loss in the \\ntransformer. \\nTherefore, W = Isc2Req....... (where Req is the equivalent resistance of transformer) \\n Zeq = Vsc/Isc. \\nTherefore, equivalent reactance of transformer can be calculated from the formula  Zeq2 = Req2 + Xeq2. \\nThese, values are referred to the HV side of the transformer. \\nHence, it is seen that the short circuit test gives copper losses of transformer and approximate equivalent '), Document(metadata={'source': 'Data\\\\transformer.pdf', 'page': 4, 'page_label': '5'}, page_content=\"resistance and reactance of the transformer. \\n \\nWhy Transformers are rated in kVA? \\nFrom the above transformer tests, it can be seen that Cu loss of a transformer depends on current, and \\niron loss depends on voltage. Thus, total transformer loss depends on volt-ampere (VA). It does not \\ndepend on the phase angle between voltage and current, i.e. transformer loss is independent of load \\npower factor. This is the reason that transformers are rated in kVA. \\nLosses in transformer \\n \\nIn any electrical machine, 'loss' can be defined as the difference between input power and output power. \\nAn electrical transformer is an static device, hence mechanical losses (like windage or friction losses) are absent \\nin it. A transformer only consists of electrical losses (iron losses and copper losses). Transformer losses are \\nsimilar to losses in a DC machine, except that transformers do not have mechanical losses. \\nLosses in transformer are explained below - \\n \\n(i) Core losses or Iron losses \\nEddy current loss and hysteresis loss depend upon the magnetic properties of the material used for the \\nconstruction of core. Hence these losses are also known as core losses or iron losses. \\n▪ Hysteresis loss in transformer: Hysteresis loss is due to reversal of magnetization in the transformer core. \\nThis loss depends upon the volume and grade of the iron, frequency of magnetic reversals and value of flux \\ndensity. It can be given by, Steinmetz formula: \\nWh= ηBmax1.6fV (watts) \\nwhere,   η = Steinmetz hysteresis constant \\n             V = volume of the core in m3 \\n▪ Eddy current loss in transformer: In transformer, AC current is supplied to the primary winding which \\nsets up alternating magnetizing flux. When this flux links with secondary winding, it produces induced emf \\nin it. But some part of this flux also gets linked with other conducting parts like steel core or iron body or \\nthe transformer, which will result in induced emf in those parts, causing small circulating current in them. \\nThis current is called as eddy current. Due to these eddy currents, some energy will be dissipated in the form \\nof heat. \\n (ii) Copper loss in transformer \\nCopper loss is due to ohmic resistance of the transformer windings.  Copper loss for the primary winding is \\nI12R1 and for secondary winding is I22R2. Where, I1 and I2 are current in primary and secondary winding \\n\"), Document(metadata={'source': 'Data\\\\transformer.pdf', 'page': 5, 'page_label': '6'}, page_content='respectively, R1 and R2 are the resistances of primary and secondary winding respectively. It is clear that Cu \\nloss is proportional to square of the current, and current depends on the load. Hence copper loss in transformer \\nvaries with the load. \\n \\nEfficiency of Transformer \\n \\nJust like any other electrical machine, efficiency of a transformer can be defined as the output power divided \\nby the input power. That is  efficiency = output / input . \\nTransformers are the most highly efficient electrical devices. Most of the transformers have full load efficiency \\nbetween 95% to 98.5% . As a transformer being highly efficient, output and input are having nearly same value, \\nand hence it is impractical to measure the efficiency of transformer by using output / input. A better method to \\nfind efficiency of a transformer is using, efficiency = (input - losses) / input = 1 - (losses / input). \\nCondition for maximum efficiency \\nLet, \\nCopper loss = I12R1 \\nIron loss = Wi \\n \\n'), Document(metadata={'source': 'Data\\\\transformer.pdf', 'page': 6, 'page_label': '7'}, page_content='Hence, efficiency of a transformer will be maximum when copper loss and iron losses are equal. \\nThat is Copper loss = Iron loss. \\nAll day efficiency of transformer \\n \\nAs we have seen above, ordinary or commercial efficiency of a transformer can be given as \\n \\n \\nBut in some types of transformers, their performance can not be judged by this efficiency. For example, \\ndistribution transformers have their primaries energized all the time. But, their secondaries supply little load all \\nno-load most of the time during day (as residential use of electricity is observed mostly during evening till \\nmidnight). \\nThat is, when secondaries of transformer are not supplying any load (or supplying only little load), then only \\ncore losses of transformer are considerable and copper losses are absent (or very little). Copper losses are \\nconsiderable only when transformers are loaded. Thus, for such transformers copper losses are relatively less \\nimportant.  The performance of such transformers is compared on the basis of energy consumed in one day. \\n \\nAll day efficiency of a transformer is always less than ordinary efficiency of it \\nEMF equation of a transformer and Voltage Transformation Ratio \\n \\nIn a transformer, source of alternating current is applied to the primary winding. Due to this, the current in the \\nprimary winding (called as magnetizing current) produces alternating flux in the core of transformer. This \\nalternating flux gets linked with the secondary winding, and because of the phenomenon of mutual induction an \\nemf gets induced in the secondary winding. Magnitude of this induced emf can be found by using the \\nfollowing EMF equation of the transformer. \\nEMF equation of the Transformer \\nLet, \\nN1 = Number of turns in primary winding \\nN2 = Number of turns in secondary winding \\nΦm = Maximum flux in the core (in Wb) = (Bm x A) \\nf = frequency of the AC supply (in Hz) \\n'), Document(metadata={'source': 'Data\\\\transformer.pdf', 'page': 7, 'page_label': '8'}, page_content=' \\n \\nAs, shown in the fig., the flux rises sinusoidally to its maximum value Φm from 0. It reaches to the maximum \\nvalue in one quarter of the cycle i.e in T/4 sec (where, T is time period of the sin wave of the supply = 1/f). \\nTherefore, \\naverage rate of change of flux = Φm /(T/4)    = Φm /(1/4f) \\nTherefore, \\naverage rate of change of flux = 4f Φm       ....... (Wb/s). \\nNow, \\nInduced emf per turn = rate of change of flux per turn \\n \\nTherefore, average emf per turn = 4f Φm   ..........(Volts). Now, we know,  Form factor = RMS value / average \\nvalue \\nTherefore, RMS value of emf per turn = Form factor X average emf per turn. \\n \\nAs, the flux Φ varies sinusoidally, form factor of a sine wave is 1.11 \\nTherefore, RMS value of emf per turn =  1.11 x 4f Φm = 4.44f Φm. \\nRMS value of induced emf in whole primary winding (E1) = RMS value of emf per turn X Number of turns in \\nprimary winding \\n \\n          E1 = 4.44f N1 Φm          ............................. eq 1 \\nSimilarly, RMS induced emf in secondary winding (E2) can be given as \\n \\n          E2 = 4.44f N2 Φm.          ............................ eq 2 \\n \\nfrom the above equations 1 and 2, \\n \\nThis is called the emf equation of transformer, which shows, emf / number of turns is same for both primary \\nand secondary winding. \\n \\n'), Document(metadata={'source': 'Data\\\\transformer.pdf', 'page': 8, 'page_label': '9'}, page_content='For an ideal transformer on no load, E1 = V1 and E2 = V2 . \\nwhere, V1 = supply voltage of primary winding \\n            V2 = terminal voltage of secondary winding \\nVoltage Transformation Ratio (K) \\nAs derived above, \\n \\nWhere, K = constant \\nThis constant K is known as voltage transformation ratio. \\n \\n▪ If N2 > N1, i.e. K > 1, then the transformer is called step-up transformer. \\n▪ If N2 < N1, i.e. K < 1, then the transformer is called step-down transformer. \\n▪  \\nEquivalent circuit of Transformer \\n \\nn a practical transformer - \\n(a) Some leakage flux is present at both primary and secondary sides. This leakage gives rise to leakage \\nreactances at both sides, which are denoted as X1 and X2 respectively. \\n(b) Both the primary and secondary winding possesses resistance, denoted as R1 and R2 respectively. These \\nresistances causes voltage drop as, I1R1 and I2R2 and also copper loss I12R1 and I22R2. \\n(c) Permeability of the core can not be infinite, hence some magnetizing current is needed. Mutual flux also \\ncauses core loss in iron parts of the transformer. \\nEquivalent circuit of transformer \\n \\nResistances and reactances of transformer, which are described above, can be imagined separately from the \\nwindings (as shown in the figure below). Hence, the function of windings, thereafter, will only be the \\ntransforming the voltage. \\n \\nThe no load current I0 is divided into, pure inductance X0 (taking magnetizing components Iμ) and non \\ninduction resistance R0 (taking working component Iw) which are connected into parallel across the primary. \\n'), Document(metadata={'source': 'Data\\\\transformer.pdf', 'page': 9, 'page_label': '10'}, page_content=\"The value of E1 can be obtained by subtracting I1Z1 from V1. The value of R0 and X0 can be calculated as, R0 = \\nE1 / Iw and X0 = E1 / Iμ. \\nBut, using this equivalent circuit does not simplifies the calculations. To make calculations simpler, it is \\npreferable to transfer current, voltage and impedance either to primary side or to the secondary side. In that \\ncase, we would have to work with only one winding which is more convenient. \\n \\nFrom the voltage transformation ratio, it is clear that, \\nE1 / E2 = N1 / N2 = K \\n \\nNow, lets refer the parameters of secondary side to primary. \\nZ2 can be referred to primary as Z2' \\nwhere, Z2' = (N1/N2)2Z2 = K2Z2.   ............where K= N1/N2. \\nthat is, R2'+jX2' = K2(R2+jX2) \\nequating real and imaginary parts, \\nR2' =  K2R2 and X2' = K2X2 . \\nAnd V2' = KV2 \\nThe following figure shows the equivalent circuit of transformer with secondary parameters referred to \\nthe primary. \\n \\nNow, as the values of winding resistance and leakage reactance are so small that, V1 and E1 can be assumed to \\nbe equal. Therefore, the exciting current drawn by the parallel combination of  R0 and X0 would not affect \\nsignificantly, if we move it to the input terminals as shown in the figure below. \\n \\n\"), Document(metadata={'source': 'Data\\\\transformer.pdf', 'page': 10, 'page_label': '11'}, page_content=\" \\nNow, let R1 + R2' = R'eq  and X1 + X2' = X'eq \\nThen the equivalent circuit of transformer becomes as shown in the figure below \\n \\nApproximate equivalent circuit of transformer \\nIf only voltage regulation is to be calculated, then even the whole excitation branch (parallel combination of R0 \\nand X0) can be neglected. Then the equivalent circuit becomes as shown in the figure below \\n \\nTransformer on No Load Condition \\nWhen the transformer is operating at no load, the secondary winding is open-circuited, which means there is no \\nload on the secondary side of the transformer and, therefore, current in the secondary will be zero. While \\nprimary winding carries a small current I0 called no-load current which is 2 to 10% of the rated current. \\nThis current is responsible for supplying the iron losses (hysteresis and eddy current losses) in the core and a \\nvery small amount of copper losses in the primary winding. The angle of lag depends upon the losses in the \\ntransformer. The power factor is very low and varies from 0.1 to 0.15. \\n\"), Document(metadata={'source': 'Data\\\\transformer.pdf', 'page': 11, 'page_label': '12'}, page_content='The no-load current consists of two \\ncomponents: \\n• Reactive or magnetizing component Im \\n(It is in quadrature with the applied voltage V1. It produces flux in the core and does not consume any power). \\n• Active or power component Iw, also know as a working component \\n(It is in phase with the applied voltage V1. It supplies the iron losses and a small amount of primary copper \\nloss). \\nThe following steps are given below to draw the phasor diagram: \\n1. The function of the magnetizing component is to produce the magnetizing flux, and thus, it will be in phase \\nwith the flux. \\n2. Induced emf in the primary and the secondary winding lags the flux ϕ by 90 degrees. \\n3. The primary copper loss is neglected, and secondary current losses are zero as \\nI2 = 0. \\nTherefore, the current I0 lags behind the voltage vector V1 by an angle ϕ0 called the no-load power factor angle \\nand is shown in the phasor diagram above. \\n4. The applied voltage V1 is drawn equal and opposite to the induced emf E1 because the difference between the \\ntwo, at no load, is negligible. \\n5. Active component Iw is drawn in phase with the applied voltage V1. \\n6. The phasor sum of magnetizing current Im and the working current Iw gives the no-load current I0. \\n'), Document(metadata={'source': 'Data\\\\transformer.pdf', 'page': 12, 'page_label': '13'}, page_content='7. From the phasor diagram drawn above, the following \\nconclusions are made  \\nTransformer On Load Condition \\nWhen the transformer is on the loaded condition, the secondary of the transformer is connected to load. The \\nload can be resistive, inductive or capacitive. The current I2 flows through the secondary winding of the \\ntransformer. The magnitude of the secondary current depends on the terminal voltage V2 and the load \\nimpedance. The phase angle between the secondary current and voltage depends on the nature of the load. \\nOperation of the Transformer on Load Condition \\nThe Operation of the Transformer on Load Condition is explained below: \\n• When the secondary of the transformer is kept open, it draws the no-load current from the main supply. The no-\\nload current induces the magnetomotive force N0I0 and this force set up the flux Φ in the core of the \\ntransformer. The circuit of the transformer at no load condition is shown in the figure below: \\n'), Document(metadata={'source': 'Data\\\\transformer.pdf', 'page': 13, 'page_label': '14'}, page_content='•  \\no When the load is connected to the secondary of the transformer, I2 current flows through their secondary \\nwinding. The secondary current induces the magnetomotive force N2I2 on the secondary winding of the \\ntransformer. This force set up the flux φ2 in the transformer core. The flux φ2 opposes the flux φ, according \\nto Lenz’s law. \\n \\n▪ As the flux φ2 opposes the flux φ, the resultant flux of the transformer decreases and this flux reduces the \\ninduced EMF E1. Thus, the strength of the V1 is more than E1 and an additional primary current I’1 drawn from \\nthe main supply. \\nThe additional current is used for restoring the original value of the flux in the core of the transformer so that \\nV1 = E1. The primary current I’1 is in phase opposition with the secondary current I2. Thus, it is called \\nthe primary counter-balancing current. \\n▪ The additional current I’1 induces the magnetomotive force N1I’1. And this force set up the flux φ’1. The \\ndirection of the flux is the same as that of the φ and it cancels the flux φ2 which induces because of the MMF \\nN2I2 \\n'), Document(metadata={'source': 'Data\\\\transformer.pdf', 'page': 14, 'page_label': '15'}, page_content='Now, N1I1’ = N2I2 \\nTherefore,  \\n• The phase difference between V1 and I1 gives the power factor angle ϕ1 of the primary side of the transformer. \\n• The power factor of the secondary side depends upon the type of load connected to the transformer. \\n• If the load is inductive as shown in the above phasor diagram, the power factor will be lagging, and if the load is \\ncapacitive, the power factor will be leading. The total primary current I1 is the vector sum of the currents I0 and \\nI1’. i.e \\n \\nPhasor Diagram of Transformer on Inductive Load \\nThe phasor diagram of the actual transformer when it is loaded inductively is shown below: \\n \\n'), Document(metadata={'source': 'Data\\\\transformer.pdf', 'page': 15, 'page_label': '16'}, page_content='Phasor Diagram of the Transformer on Inductive Load \\nSteps to draw the phasor diagram \\n• Take flux ϕ, a reference \\n• Induces emf E1 and E2 lags the flux by 90 degrees. \\n• The component of the applied voltage to the primary equal and opposite to induced emf in the primary winding. \\nE1 is represented by V1’. \\n• Current I0 lags the voltage V1’ by 90 degrees. \\n• The power factor of the load is lagging. Therefore current I2 is drawn lagging E2 by an angle ϕ2. \\n• The resistance and the leakage reactance of the windings result in a voltage drop, and hence secondary terminal \\nvoltage V2 is the phase difference of E2 and voltage drop. \\nV2 = E2 – voltage drops \\nI2 R2 is in phase with I2 and I2X2 is in quadrature with I2. \\n• The total current flowing in the primary winding is the phasor sum of I1’ and I0. \\n• Primary applied voltage V1 is the phasor sum of V1’ and the voltage drop in the primary winding. \\n• Current I1’ is drawn equal and opposite to the current I2 \\nV1 = V1’ + voltage drop \\nI1R1 is in phase with I1 and I1XI is in quadrature with I1. \\n• The phasor difference between V1 and I1 gives the power factor angle ϕ1 of the primary side of the transformer. \\n• The power factor of the secondary side depends upon the type of load connected to the transformer. \\n• If the load is inductive as shown in the above phasor diagram, the power factor will be lagging, and if the load is \\ncapacitive, the power factor will be leading.       Where I1R1 is the resistive drop in the primary windings \\nI2X2 is the reactive drop in the secondary winding \\nSimilarly \\nPhasor Diagram of Transformer on Capacitive Load \\nThe Transformer on the Capacitive load (leading power factor load) is shown below in the phasor diagram. \\nSteps to draw the phasor diagram at capacitive load \\n• Take flux ϕ a reference \\n• Induces emf E1 and E2 lags the flux by 90 degrees. \\n• The component of the applied voltage to the primary equal and opposite to induced emf in the primary winding. \\nE1 is represented by V1’. \\n• Current I0 lags the voltage V1’ by 90 degrees. \\n• The power factor of the load is leading. Therefore current I2 is drawn leading E2 \\n• The resistance and the leakage reactance of the windings result in a voltage drop, and hence secondary terminal \\nvoltage V2 is the phasor difference of E2 and voltage drop. \\nV2 = E2 – voltage drops \\nI2 R2 is in phase with I2 and I2X2 is in quadrature with I2. \\n• Current I1’ is drawn equal and opposite to the current I2 '), Document(metadata={'source': 'Data\\\\transformer.pdf', 'page': 16, 'page_label': '17'}, page_content='• The total current I1 flowing in the primary winding is the phasor sum of I1’ and I0. \\n• Primary applied voltage V1 is the phasor sum of V1’ and the voltage drop in the primary winding. \\nV1 = V1’ + voltage drop \\nI1R1 is in phase with I1 and I1XI is in quadrature with I1. \\n• The phasor difference between V1 and I1 gives the power factor angle ϕ1 of the primary side of the transformer. \\n• The power factor of the secondary side depends upon the type of load connected to the transformer. \\nThis is all about the phasor diagram on various loads. \\n \\n \\nPhasor Diagram of the Transformer on Capacitive Load \\n \\n \\n')]\n",
      "You are an expert MCQ maker. Given the above text, it is your job to create a quiz  of 5 multiple choice questions for Transformer students in simple tone. \n",
      "Make sure the questions are not repeated and check all the questions to be conforming the text as well.\n",
      "Make sure to format your response like  RESPONSE_JSON below  and use it as a guide. Ensure to make 5 MCQs\n",
      "### RESPONSE_JSON\n",
      "{\"1\": {\"mcq\": \"multiple choice question\", \"options\": {\"a\": \"choice here\", \"b\": \"choice here\", \"c\": \"choice here\", \"d\": \"choice here\"}, \"correct\": \"correct answer\"}, \"2\": {\"mcq\": \"multiple choice question\", \"options\": {\"a\": \"choice here\", \"b\": \"choice here\", \"c\": \"choice here\", \"d\": \"choice here\"}, \"correct\": \"correct answer\"}, \"3\": {\"mcq\": \"multiple choice question\", \"options\": {\"a\": \"choice here\", \"b\": \"choice here\", \"c\": \"choice here\", \"d\": \"choice here\"}, \"correct\": \"correct answer\"}}\n",
      "\n",
      "\u001b[0m\n",
      "\n",
      "\u001b[1m> Finished chain.\u001b[0m\n",
      "\n",
      "\n",
      "\u001b[1m> Entering new LLMChain chain...\u001b[0m\n",
      "Prompt after formatting:\n",
      "\u001b[32;1m\u001b[1;3m\n",
      "Text:[Document(metadata={'source': 'Data\\\\transformer.pdf', 'page': 0, 'page_label': '1'}, page_content=\"Transformer  \\nelectrical transformer is a static electrical machine which transforms electrical power from one circuit to \\nanother circuit, without changing the frequency. Transformer can increase or decrease the voltage with \\ncorresponding decrease or increase in current. \\nWorking principle of transformer \\n \\n The basic principle behind working of a transformer is the phenomenon of mutual induction between two \\nwindings linked by common magnetic flux. The figure at right shows the simplest form of a transformer. \\nBasically a transformer consists of two inductive coils; primary winding and secondary winding. The coils are \\nelectrically separated but magnetically linked to each other. When, primary winding is connected to a source of \\nalternating voltage, alternating magnetic flux is produced around the winding. The core provides magnetic path \\nfor the flux, to get linked with the secondary winding. Most of the flux gets linked with the secondary winding \\nwhich is called as 'useful flux' or main 'flux', and the flux which does not get linked with secondary winding is \\ncalled as 'leakage flux'.  As the flux produced is alternating (the direction of it is continuously changing), EMF \\ngets induced in the secondary winding according to Faraday's law of electromagnetic induction. This emf is \\ncalled 'mutually induced emf', and the frequency of mutually induced emf is same as that of supplied emf. If the \\nsecondary winding is closed circuit, then mutually induced current flows through it, and hence the electrical \\nenergy is transferred from one circuit (primary) to another circuit (secondary). \\n \\nBasic construction of transformer \\nBasically a transformer consists of two inductive windings and a laminated steel core. The coils are insulated \\nfrom each other as well as from the steel core. A transformer may also consist of a container for winding and \\ncore assembly (called as tank), suitable bushings to take our the terminals, oil conservator to provide oil in the \\ntransformer tank for cooling purposes etc. The figure at left illustrates the basic construction of a transformer. \\n In all types of transformers, core is constructed by assembling (stacking) laminated sheets of steel, with \\nminimum air-gap between them (to achieve continuous magnetic path). The steel used is having high silicon \\ncontent and sometimes heat treated, to provide high permeability and low hysteresis loss. Laminated sheets of \\nsteel are used to reduce eddy current loss. The sheets are cut in the shape as E,I and L. To avoid high reluctance \\n\"), Document(metadata={'source': 'Data\\\\transformer.pdf', 'page': 1, 'page_label': '2'}, page_content='at joints, laminations are stacked by alternating the sides of joint. That is, if joints of first sheet assembly are at \\nfront face, the joints of following assemble are kept at back face. \\n \\n \\nTypes of transformers \\nTransformers can be classified on different basis, like types of construction, types of cooling etc. \\n \\n(A) On the basis of construction, transformers can be classified into two types as;  \\n(i) Core type transformer and (ii) Shell type transformer, which are described below. \\n \\n(i) Core type transformer \\nIn core type transformer, windings are cylindrical former wound, mounted on  the core limbs as shown in the \\nfigure above. The cylindrical coils have different layers and each layer is insulated from each other. Materials \\nlike paper, cloth or mica can be used for insulation. Low voltage windings are placed nearer to the core, as they \\nare easier to insulate. \\n'), Document(metadata={'source': 'Data\\\\transformer.pdf', 'page': 2, 'page_label': '3'}, page_content=\"(ii) Shell type transformer \\nThe coils are former wound and mounted in layers stacked with insulation between them. A shell type \\ntransformer may have simple rectangular form (as shown in above fig), or  it may have a distributed form. \\n \\n(B) On the basis of their purpose \\n1. Step up transformer: Voltage increases (with subsequent decrease in current) at secondary. \\n2. Step down transformer: Voltage decreases (with subsequent increase in current) at secondary. \\n \\n(C) On the basis of type of supply \\n1. Single phase transformer \\n2. Three phase transformer \\n3.  \\n(D) On the basis of their use \\n1. Power transformer: Used in transmission network, high rating \\n2. Distribution transformer: Used in distribution network, comparatively lower rating than that of power \\ntransformers. \\n3. Instrument transformer: Used in relay and protection purpose in different instruments in industries \\n▪  Current transformer (CT) \\n▪ Potential transformer (PT) \\n▪  \\nOpen circuit and Short circuit Test on transformer \\nThese two transformer tests are performed to find the parameters of equivalent circuit of transformer and losses \\nof the transformer. Open circuit test and short circuit test on transformer are very economical and convenient \\nbecause they are performed without actually loading of the transformer. \\n \\nOpen circuit or No load test on Transformer \\n \\nOpen circuit test or no load test on a transformer is performed to determine 'no load loss (core loss)' and 'no load \\ncurrent I0'. The circuit diagram for open circuit test is shown in the figure below. \\n \\nUsually high voltage (HV) winding is kept open and the low voltage (LV) winding is connected to its normal \\nsupply. A wattmeter (W), ammeter (A) and voltmeter (V) are connected to the LV winding as shown in the \\n\"), Document(metadata={'source': 'Data\\\\transformer.pdf', 'page': 3, 'page_label': '4'}, page_content='figure. Now, applied voltage is slowly increased from zero to normal rated value of the LV side with the help of \\na variac. When the applied voltage reaches to the rated value of the LV winding, readings from all the three \\ninstruments are taken. \\nThe ammeter reading gives the no load current I0. As I0 itself is very small, the voltage drops due to this current \\ncan be neglected. \\nThe input power is indicated by the wattmeter (W). And as the other side of transformer is open circuited, there \\nis no output power. Hence, this input power only consists of core losses and copper losses. As described above, \\nno-load current is so small that these copper losses can be neglected. Hence, now the input power is almost \\nequal to the core losses. Thus, the wattmeter reading gives the core losses of the transformer. \\nSometimes, a high resistance voltmeter is connected across the HV winding. Though, a voltmeter is connected, \\nHV winding can be treated as open circuit as the current through the voltmeter is negligibly small. This helps in \\nto find voltage transformation ratio (K). \\nThe two components of no load current can be given as, \\n \\nIμ = I0sinΦ0   and    Iw = I0cosΦ0. \\ncosΦ0 (no load power factor) = W / (V1I0). ... (W = wattmeter reading) \\n \\nFrom this, shunt parameters of equivalent circuit parameters of equivalent circuit of transformer (X0 and R0) can \\nbe calculated as \\n \\nX0 = V1/Iμ  and  R0 = V1/Iw. \\n \\n(These values are referring to LV side of the transformer.) \\nHence, it is seen that open circuit test gives core losses of transformer and shunt parameters of the equivalent \\ncircuit. \\n \\nShort circuit or Impedance test on Transformer \\n \\nThe connection diagram for short circuit test or impedance test on transformer is as shown in the figure \\nbelow. The LV side of transformer is short circuited and wattmeter (W), voltmere (V) and ammeter (A) are \\nconnected on the HV side of the transformer. Voltage is applied to the HV side and increased from the zero \\nuntil the ammeter reading equals the rated current. All the readings are taken at this rated current. \\nThe ammeter reading gives primary equivalent of full load current (Isc). \\nThe voltage applied for full load current is very small as compared to rated voltage. Hence, core loss due to \\nsmall applied voltage can be neglected. Thus, the wattmeter reading can be taken as copper loss in the \\ntransformer. \\nTherefore, W = Isc2Req....... (where Req is the equivalent resistance of transformer) \\n Zeq = Vsc/Isc. \\nTherefore, equivalent reactance of transformer can be calculated from the formula  Zeq2 = Req2 + Xeq2. \\nThese, values are referred to the HV side of the transformer. \\nHence, it is seen that the short circuit test gives copper losses of transformer and approximate equivalent '), Document(metadata={'source': 'Data\\\\transformer.pdf', 'page': 4, 'page_label': '5'}, page_content=\"resistance and reactance of the transformer. \\n \\nWhy Transformers are rated in kVA? \\nFrom the above transformer tests, it can be seen that Cu loss of a transformer depends on current, and \\niron loss depends on voltage. Thus, total transformer loss depends on volt-ampere (VA). It does not \\ndepend on the phase angle between voltage and current, i.e. transformer loss is independent of load \\npower factor. This is the reason that transformers are rated in kVA. \\nLosses in transformer \\n \\nIn any electrical machine, 'loss' can be defined as the difference between input power and output power. \\nAn electrical transformer is an static device, hence mechanical losses (like windage or friction losses) are absent \\nin it. A transformer only consists of electrical losses (iron losses and copper losses). Transformer losses are \\nsimilar to losses in a DC machine, except that transformers do not have mechanical losses. \\nLosses in transformer are explained below - \\n \\n(i) Core losses or Iron losses \\nEddy current loss and hysteresis loss depend upon the magnetic properties of the material used for the \\nconstruction of core. Hence these losses are also known as core losses or iron losses. \\n▪ Hysteresis loss in transformer: Hysteresis loss is due to reversal of magnetization in the transformer core. \\nThis loss depends upon the volume and grade of the iron, frequency of magnetic reversals and value of flux \\ndensity. It can be given by, Steinmetz formula: \\nWh= ηBmax1.6fV (watts) \\nwhere,   η = Steinmetz hysteresis constant \\n             V = volume of the core in m3 \\n▪ Eddy current loss in transformer: In transformer, AC current is supplied to the primary winding which \\nsets up alternating magnetizing flux. When this flux links with secondary winding, it produces induced emf \\nin it. But some part of this flux also gets linked with other conducting parts like steel core or iron body or \\nthe transformer, which will result in induced emf in those parts, causing small circulating current in them. \\nThis current is called as eddy current. Due to these eddy currents, some energy will be dissipated in the form \\nof heat. \\n (ii) Copper loss in transformer \\nCopper loss is due to ohmic resistance of the transformer windings.  Copper loss for the primary winding is \\nI12R1 and for secondary winding is I22R2. Where, I1 and I2 are current in primary and secondary winding \\n\"), Document(metadata={'source': 'Data\\\\transformer.pdf', 'page': 5, 'page_label': '6'}, page_content='respectively, R1 and R2 are the resistances of primary and secondary winding respectively. It is clear that Cu \\nloss is proportional to square of the current, and current depends on the load. Hence copper loss in transformer \\nvaries with the load. \\n \\nEfficiency of Transformer \\n \\nJust like any other electrical machine, efficiency of a transformer can be defined as the output power divided \\nby the input power. That is  efficiency = output / input . \\nTransformers are the most highly efficient electrical devices. Most of the transformers have full load efficiency \\nbetween 95% to 98.5% . As a transformer being highly efficient, output and input are having nearly same value, \\nand hence it is impractical to measure the efficiency of transformer by using output / input. A better method to \\nfind efficiency of a transformer is using, efficiency = (input - losses) / input = 1 - (losses / input). \\nCondition for maximum efficiency \\nLet, \\nCopper loss = I12R1 \\nIron loss = Wi \\n \\n'), Document(metadata={'source': 'Data\\\\transformer.pdf', 'page': 6, 'page_label': '7'}, page_content='Hence, efficiency of a transformer will be maximum when copper loss and iron losses are equal. \\nThat is Copper loss = Iron loss. \\nAll day efficiency of transformer \\n \\nAs we have seen above, ordinary or commercial efficiency of a transformer can be given as \\n \\n \\nBut in some types of transformers, their performance can not be judged by this efficiency. For example, \\ndistribution transformers have their primaries energized all the time. But, their secondaries supply little load all \\nno-load most of the time during day (as residential use of electricity is observed mostly during evening till \\nmidnight). \\nThat is, when secondaries of transformer are not supplying any load (or supplying only little load), then only \\ncore losses of transformer are considerable and copper losses are absent (or very little). Copper losses are \\nconsiderable only when transformers are loaded. Thus, for such transformers copper losses are relatively less \\nimportant.  The performance of such transformers is compared on the basis of energy consumed in one day. \\n \\nAll day efficiency of a transformer is always less than ordinary efficiency of it \\nEMF equation of a transformer and Voltage Transformation Ratio \\n \\nIn a transformer, source of alternating current is applied to the primary winding. Due to this, the current in the \\nprimary winding (called as magnetizing current) produces alternating flux in the core of transformer. This \\nalternating flux gets linked with the secondary winding, and because of the phenomenon of mutual induction an \\nemf gets induced in the secondary winding. Magnitude of this induced emf can be found by using the \\nfollowing EMF equation of the transformer. \\nEMF equation of the Transformer \\nLet, \\nN1 = Number of turns in primary winding \\nN2 = Number of turns in secondary winding \\nΦm = Maximum flux in the core (in Wb) = (Bm x A) \\nf = frequency of the AC supply (in Hz) \\n'), Document(metadata={'source': 'Data\\\\transformer.pdf', 'page': 7, 'page_label': '8'}, page_content=' \\n \\nAs, shown in the fig., the flux rises sinusoidally to its maximum value Φm from 0. It reaches to the maximum \\nvalue in one quarter of the cycle i.e in T/4 sec (where, T is time period of the sin wave of the supply = 1/f). \\nTherefore, \\naverage rate of change of flux = Φm /(T/4)    = Φm /(1/4f) \\nTherefore, \\naverage rate of change of flux = 4f Φm       ....... (Wb/s). \\nNow, \\nInduced emf per turn = rate of change of flux per turn \\n \\nTherefore, average emf per turn = 4f Φm   ..........(Volts). Now, we know,  Form factor = RMS value / average \\nvalue \\nTherefore, RMS value of emf per turn = Form factor X average emf per turn. \\n \\nAs, the flux Φ varies sinusoidally, form factor of a sine wave is 1.11 \\nTherefore, RMS value of emf per turn =  1.11 x 4f Φm = 4.44f Φm. \\nRMS value of induced emf in whole primary winding (E1) = RMS value of emf per turn X Number of turns in \\nprimary winding \\n \\n          E1 = 4.44f N1 Φm          ............................. eq 1 \\nSimilarly, RMS induced emf in secondary winding (E2) can be given as \\n \\n          E2 = 4.44f N2 Φm.          ............................ eq 2 \\n \\nfrom the above equations 1 and 2, \\n \\nThis is called the emf equation of transformer, which shows, emf / number of turns is same for both primary \\nand secondary winding. \\n \\n'), Document(metadata={'source': 'Data\\\\transformer.pdf', 'page': 8, 'page_label': '9'}, page_content='For an ideal transformer on no load, E1 = V1 and E2 = V2 . \\nwhere, V1 = supply voltage of primary winding \\n            V2 = terminal voltage of secondary winding \\nVoltage Transformation Ratio (K) \\nAs derived above, \\n \\nWhere, K = constant \\nThis constant K is known as voltage transformation ratio. \\n \\n▪ If N2 > N1, i.e. K > 1, then the transformer is called step-up transformer. \\n▪ If N2 < N1, i.e. K < 1, then the transformer is called step-down transformer. \\n▪  \\nEquivalent circuit of Transformer \\n \\nn a practical transformer - \\n(a) Some leakage flux is present at both primary and secondary sides. This leakage gives rise to leakage \\nreactances at both sides, which are denoted as X1 and X2 respectively. \\n(b) Both the primary and secondary winding possesses resistance, denoted as R1 and R2 respectively. These \\nresistances causes voltage drop as, I1R1 and I2R2 and also copper loss I12R1 and I22R2. \\n(c) Permeability of the core can not be infinite, hence some magnetizing current is needed. Mutual flux also \\ncauses core loss in iron parts of the transformer. \\nEquivalent circuit of transformer \\n \\nResistances and reactances of transformer, which are described above, can be imagined separately from the \\nwindings (as shown in the figure below). Hence, the function of windings, thereafter, will only be the \\ntransforming the voltage. \\n \\nThe no load current I0 is divided into, pure inductance X0 (taking magnetizing components Iμ) and non \\ninduction resistance R0 (taking working component Iw) which are connected into parallel across the primary. \\n'), Document(metadata={'source': 'Data\\\\transformer.pdf', 'page': 9, 'page_label': '10'}, page_content=\"The value of E1 can be obtained by subtracting I1Z1 from V1. The value of R0 and X0 can be calculated as, R0 = \\nE1 / Iw and X0 = E1 / Iμ. \\nBut, using this equivalent circuit does not simplifies the calculations. To make calculations simpler, it is \\npreferable to transfer current, voltage and impedance either to primary side or to the secondary side. In that \\ncase, we would have to work with only one winding which is more convenient. \\n \\nFrom the voltage transformation ratio, it is clear that, \\nE1 / E2 = N1 / N2 = K \\n \\nNow, lets refer the parameters of secondary side to primary. \\nZ2 can be referred to primary as Z2' \\nwhere, Z2' = (N1/N2)2Z2 = K2Z2.   ............where K= N1/N2. \\nthat is, R2'+jX2' = K2(R2+jX2) \\nequating real and imaginary parts, \\nR2' =  K2R2 and X2' = K2X2 . \\nAnd V2' = KV2 \\nThe following figure shows the equivalent circuit of transformer with secondary parameters referred to \\nthe primary. \\n \\nNow, as the values of winding resistance and leakage reactance are so small that, V1 and E1 can be assumed to \\nbe equal. Therefore, the exciting current drawn by the parallel combination of  R0 and X0 would not affect \\nsignificantly, if we move it to the input terminals as shown in the figure below. \\n \\n\"), Document(metadata={'source': 'Data\\\\transformer.pdf', 'page': 10, 'page_label': '11'}, page_content=\" \\nNow, let R1 + R2' = R'eq  and X1 + X2' = X'eq \\nThen the equivalent circuit of transformer becomes as shown in the figure below \\n \\nApproximate equivalent circuit of transformer \\nIf only voltage regulation is to be calculated, then even the whole excitation branch (parallel combination of R0 \\nand X0) can be neglected. Then the equivalent circuit becomes as shown in the figure below \\n \\nTransformer on No Load Condition \\nWhen the transformer is operating at no load, the secondary winding is open-circuited, which means there is no \\nload on the secondary side of the transformer and, therefore, current in the secondary will be zero. While \\nprimary winding carries a small current I0 called no-load current which is 2 to 10% of the rated current. \\nThis current is responsible for supplying the iron losses (hysteresis and eddy current losses) in the core and a \\nvery small amount of copper losses in the primary winding. The angle of lag depends upon the losses in the \\ntransformer. The power factor is very low and varies from 0.1 to 0.15. \\n\"), Document(metadata={'source': 'Data\\\\transformer.pdf', 'page': 11, 'page_label': '12'}, page_content='The no-load current consists of two \\ncomponents: \\n• Reactive or magnetizing component Im \\n(It is in quadrature with the applied voltage V1. It produces flux in the core and does not consume any power). \\n• Active or power component Iw, also know as a working component \\n(It is in phase with the applied voltage V1. It supplies the iron losses and a small amount of primary copper \\nloss). \\nThe following steps are given below to draw the phasor diagram: \\n1. The function of the magnetizing component is to produce the magnetizing flux, and thus, it will be in phase \\nwith the flux. \\n2. Induced emf in the primary and the secondary winding lags the flux ϕ by 90 degrees. \\n3. The primary copper loss is neglected, and secondary current losses are zero as \\nI2 = 0. \\nTherefore, the current I0 lags behind the voltage vector V1 by an angle ϕ0 called the no-load power factor angle \\nand is shown in the phasor diagram above. \\n4. The applied voltage V1 is drawn equal and opposite to the induced emf E1 because the difference between the \\ntwo, at no load, is negligible. \\n5. Active component Iw is drawn in phase with the applied voltage V1. \\n6. The phasor sum of magnetizing current Im and the working current Iw gives the no-load current I0. \\n'), Document(metadata={'source': 'Data\\\\transformer.pdf', 'page': 12, 'page_label': '13'}, page_content='7. From the phasor diagram drawn above, the following \\nconclusions are made  \\nTransformer On Load Condition \\nWhen the transformer is on the loaded condition, the secondary of the transformer is connected to load. The \\nload can be resistive, inductive or capacitive. The current I2 flows through the secondary winding of the \\ntransformer. The magnitude of the secondary current depends on the terminal voltage V2 and the load \\nimpedance. The phase angle between the secondary current and voltage depends on the nature of the load. \\nOperation of the Transformer on Load Condition \\nThe Operation of the Transformer on Load Condition is explained below: \\n• When the secondary of the transformer is kept open, it draws the no-load current from the main supply. The no-\\nload current induces the magnetomotive force N0I0 and this force set up the flux Φ in the core of the \\ntransformer. The circuit of the transformer at no load condition is shown in the figure below: \\n'), Document(metadata={'source': 'Data\\\\transformer.pdf', 'page': 13, 'page_label': '14'}, page_content='•  \\no When the load is connected to the secondary of the transformer, I2 current flows through their secondary \\nwinding. The secondary current induces the magnetomotive force N2I2 on the secondary winding of the \\ntransformer. This force set up the flux φ2 in the transformer core. The flux φ2 opposes the flux φ, according \\nto Lenz’s law. \\n \\n▪ As the flux φ2 opposes the flux φ, the resultant flux of the transformer decreases and this flux reduces the \\ninduced EMF E1. Thus, the strength of the V1 is more than E1 and an additional primary current I’1 drawn from \\nthe main supply. \\nThe additional current is used for restoring the original value of the flux in the core of the transformer so that \\nV1 = E1. The primary current I’1 is in phase opposition with the secondary current I2. Thus, it is called \\nthe primary counter-balancing current. \\n▪ The additional current I’1 induces the magnetomotive force N1I’1. And this force set up the flux φ’1. The \\ndirection of the flux is the same as that of the φ and it cancels the flux φ2 which induces because of the MMF \\nN2I2 \\n'), Document(metadata={'source': 'Data\\\\transformer.pdf', 'page': 14, 'page_label': '15'}, page_content='Now, N1I1’ = N2I2 \\nTherefore,  \\n• The phase difference between V1 and I1 gives the power factor angle ϕ1 of the primary side of the transformer. \\n• The power factor of the secondary side depends upon the type of load connected to the transformer. \\n• If the load is inductive as shown in the above phasor diagram, the power factor will be lagging, and if the load is \\ncapacitive, the power factor will be leading. The total primary current I1 is the vector sum of the currents I0 and \\nI1’. i.e \\n \\nPhasor Diagram of Transformer on Inductive Load \\nThe phasor diagram of the actual transformer when it is loaded inductively is shown below: \\n \\n'), Document(metadata={'source': 'Data\\\\transformer.pdf', 'page': 15, 'page_label': '16'}, page_content='Phasor Diagram of the Transformer on Inductive Load \\nSteps to draw the phasor diagram \\n• Take flux ϕ, a reference \\n• Induces emf E1 and E2 lags the flux by 90 degrees. \\n• The component of the applied voltage to the primary equal and opposite to induced emf in the primary winding. \\nE1 is represented by V1’. \\n• Current I0 lags the voltage V1’ by 90 degrees. \\n• The power factor of the load is lagging. Therefore current I2 is drawn lagging E2 by an angle ϕ2. \\n• The resistance and the leakage reactance of the windings result in a voltage drop, and hence secondary terminal \\nvoltage V2 is the phase difference of E2 and voltage drop. \\nV2 = E2 – voltage drops \\nI2 R2 is in phase with I2 and I2X2 is in quadrature with I2. \\n• The total current flowing in the primary winding is the phasor sum of I1’ and I0. \\n• Primary applied voltage V1 is the phasor sum of V1’ and the voltage drop in the primary winding. \\n• Current I1’ is drawn equal and opposite to the current I2 \\nV1 = V1’ + voltage drop \\nI1R1 is in phase with I1 and I1XI is in quadrature with I1. \\n• The phasor difference between V1 and I1 gives the power factor angle ϕ1 of the primary side of the transformer. \\n• The power factor of the secondary side depends upon the type of load connected to the transformer. \\n• If the load is inductive as shown in the above phasor diagram, the power factor will be lagging, and if the load is \\ncapacitive, the power factor will be leading.       Where I1R1 is the resistive drop in the primary windings \\nI2X2 is the reactive drop in the secondary winding \\nSimilarly \\nPhasor Diagram of Transformer on Capacitive Load \\nThe Transformer on the Capacitive load (leading power factor load) is shown below in the phasor diagram. \\nSteps to draw the phasor diagram at capacitive load \\n• Take flux ϕ a reference \\n• Induces emf E1 and E2 lags the flux by 90 degrees. \\n• The component of the applied voltage to the primary equal and opposite to induced emf in the primary winding. \\nE1 is represented by V1’. \\n• Current I0 lags the voltage V1’ by 90 degrees. \\n• The power factor of the load is leading. Therefore current I2 is drawn leading E2 \\n• The resistance and the leakage reactance of the windings result in a voltage drop, and hence secondary terminal \\nvoltage V2 is the phasor difference of E2 and voltage drop. \\nV2 = E2 – voltage drops \\nI2 R2 is in phase with I2 and I2X2 is in quadrature with I2. \\n• Current I1’ is drawn equal and opposite to the current I2 '), Document(metadata={'source': 'Data\\\\transformer.pdf', 'page': 16, 'page_label': '17'}, page_content='• The total current I1 flowing in the primary winding is the phasor sum of I1’ and I0. \\n• Primary applied voltage V1 is the phasor sum of V1’ and the voltage drop in the primary winding. \\nV1 = V1’ + voltage drop \\nI1R1 is in phase with I1 and I1XI is in quadrature with I1. \\n• The phasor difference between V1 and I1 gives the power factor angle ϕ1 of the primary side of the transformer. \\n• The power factor of the secondary side depends upon the type of load connected to the transformer. \\nThis is all about the phasor diagram on various loads. \\n \\n \\nPhasor Diagram of the Transformer on Capacitive Load \\n \\n \\n')]\n",
      "You are an expert MCQ maker. Given the above text, it is your job to create a quiz  of 5 multiple choice questions for Transformer students in simple tone. \n",
      "Make sure the questions are not repeated and check all the questions to be conforming the text as well.\n",
      "Make sure to format your response like  RESPONSE_JSON below  and use it as a guide. Ensure to make 5 MCQs\n",
      "### RESPONSE_JSON\n",
      "{\"1\": {\"mcq\": \"multiple choice question\", \"options\": {\"a\": \"choice here\", \"b\": \"choice here\", \"c\": \"choice here\", \"d\": \"choice here\"}, \"correct\": \"correct answer\"}, \"2\": {\"mcq\": \"multiple choice question\", \"options\": {\"a\": \"choice here\", \"b\": \"choice here\", \"c\": \"choice here\", \"d\": \"choice here\"}, \"correct\": \"correct answer\"}, \"3\": {\"mcq\": \"multiple choice question\", \"options\": {\"a\": \"choice here\", \"b\": \"choice here\", \"c\": \"choice here\", \"d\": \"choice here\"}, \"correct\": \"correct answer\"}}\n",
      "\n",
      "\u001b[0m\n",
      "\n",
      "\u001b[1m> Finished chain.\u001b[0m\n",
      "\n",
      "\u001b[1m> Finished chain.\u001b[0m\n"
     ]
    }
   ],
   "source": [
    "# Token Usage Tracking in LangChain\n",
    "\n",
    "with get_openai_callback() as cb:\n",
    "    response=generate_evaluate_chain(\n",
    "        {\n",
    "            \"text\": TEXT,\n",
    "            \"number\": NUMBER,\n",
    "            \"subject\":SUBJECT,\n",
    "            \"tone\": TONE,\n",
    "            \"response_json\": json.dumps(RESPONSE_JSON)\n",
    "        }\n",
    "        )"
   ]
  },
  {
   "cell_type": "code",
   "execution_count": 20,
   "metadata": {},
   "outputs": [
    {
     "data": {
      "text/plain": [
       "{'text': [Document(metadata={'source': 'Data\\\\transformer.pdf', 'page': 0, 'page_label': '1'}, page_content=\"Transformer  \\nelectrical transformer is a static electrical machine which transforms electrical power from one circuit to \\nanother circuit, without changing the frequency. Transformer can increase or decrease the voltage with \\ncorresponding decrease or increase in current. \\nWorking principle of transformer \\n \\n The basic principle behind working of a transformer is the phenomenon of mutual induction between two \\nwindings linked by common magnetic flux. The figure at right shows the simplest form of a transformer. \\nBasically a transformer consists of two inductive coils; primary winding and secondary winding. The coils are \\nelectrically separated but magnetically linked to each other. When, primary winding is connected to a source of \\nalternating voltage, alternating magnetic flux is produced around the winding. The core provides magnetic path \\nfor the flux, to get linked with the secondary winding. Most of the flux gets linked with the secondary winding \\nwhich is called as 'useful flux' or main 'flux', and the flux which does not get linked with secondary winding is \\ncalled as 'leakage flux'.  As the flux produced is alternating (the direction of it is continuously changing), EMF \\ngets induced in the secondary winding according to Faraday's law of electromagnetic induction. This emf is \\ncalled 'mutually induced emf', and the frequency of mutually induced emf is same as that of supplied emf. If the \\nsecondary winding is closed circuit, then mutually induced current flows through it, and hence the electrical \\nenergy is transferred from one circuit (primary) to another circuit (secondary). \\n \\nBasic construction of transformer \\nBasically a transformer consists of two inductive windings and a laminated steel core. The coils are insulated \\nfrom each other as well as from the steel core. A transformer may also consist of a container for winding and \\ncore assembly (called as tank), suitable bushings to take our the terminals, oil conservator to provide oil in the \\ntransformer tank for cooling purposes etc. The figure at left illustrates the basic construction of a transformer. \\n In all types of transformers, core is constructed by assembling (stacking) laminated sheets of steel, with \\nminimum air-gap between them (to achieve continuous magnetic path). The steel used is having high silicon \\ncontent and sometimes heat treated, to provide high permeability and low hysteresis loss. Laminated sheets of \\nsteel are used to reduce eddy current loss. The sheets are cut in the shape as E,I and L. To avoid high reluctance \\n\"),\n",
       "  Document(metadata={'source': 'Data\\\\transformer.pdf', 'page': 1, 'page_label': '2'}, page_content='at joints, laminations are stacked by alternating the sides of joint. That is, if joints of first sheet assembly are at \\nfront face, the joints of following assemble are kept at back face. \\n \\n \\nTypes of transformers \\nTransformers can be classified on different basis, like types of construction, types of cooling etc. \\n \\n(A) On the basis of construction, transformers can be classified into two types as;  \\n(i) Core type transformer and (ii) Shell type transformer, which are described below. \\n \\n(i) Core type transformer \\nIn core type transformer, windings are cylindrical former wound, mounted on  the core limbs as shown in the \\nfigure above. The cylindrical coils have different layers and each layer is insulated from each other. Materials \\nlike paper, cloth or mica can be used for insulation. Low voltage windings are placed nearer to the core, as they \\nare easier to insulate. \\n'),\n",
       "  Document(metadata={'source': 'Data\\\\transformer.pdf', 'page': 2, 'page_label': '3'}, page_content=\"(ii) Shell type transformer \\nThe coils are former wound and mounted in layers stacked with insulation between them. A shell type \\ntransformer may have simple rectangular form (as shown in above fig), or  it may have a distributed form. \\n \\n(B) On the basis of their purpose \\n1. Step up transformer: Voltage increases (with subsequent decrease in current) at secondary. \\n2. Step down transformer: Voltage decreases (with subsequent increase in current) at secondary. \\n \\n(C) On the basis of type of supply \\n1. Single phase transformer \\n2. Three phase transformer \\n3.  \\n(D) On the basis of their use \\n1. Power transformer: Used in transmission network, high rating \\n2. Distribution transformer: Used in distribution network, comparatively lower rating than that of power \\ntransformers. \\n3. Instrument transformer: Used in relay and protection purpose in different instruments in industries \\n▪  Current transformer (CT) \\n▪ Potential transformer (PT) \\n▪  \\nOpen circuit and Short circuit Test on transformer \\nThese two transformer tests are performed to find the parameters of equivalent circuit of transformer and losses \\nof the transformer. Open circuit test and short circuit test on transformer are very economical and convenient \\nbecause they are performed without actually loading of the transformer. \\n \\nOpen circuit or No load test on Transformer \\n \\nOpen circuit test or no load test on a transformer is performed to determine 'no load loss (core loss)' and 'no load \\ncurrent I0'. The circuit diagram for open circuit test is shown in the figure below. \\n \\nUsually high voltage (HV) winding is kept open and the low voltage (LV) winding is connected to its normal \\nsupply. A wattmeter (W), ammeter (A) and voltmeter (V) are connected to the LV winding as shown in the \\n\"),\n",
       "  Document(metadata={'source': 'Data\\\\transformer.pdf', 'page': 3, 'page_label': '4'}, page_content='figure. Now, applied voltage is slowly increased from zero to normal rated value of the LV side with the help of \\na variac. When the applied voltage reaches to the rated value of the LV winding, readings from all the three \\ninstruments are taken. \\nThe ammeter reading gives the no load current I0. As I0 itself is very small, the voltage drops due to this current \\ncan be neglected. \\nThe input power is indicated by the wattmeter (W). And as the other side of transformer is open circuited, there \\nis no output power. Hence, this input power only consists of core losses and copper losses. As described above, \\nno-load current is so small that these copper losses can be neglected. Hence, now the input power is almost \\nequal to the core losses. Thus, the wattmeter reading gives the core losses of the transformer. \\nSometimes, a high resistance voltmeter is connected across the HV winding. Though, a voltmeter is connected, \\nHV winding can be treated as open circuit as the current through the voltmeter is negligibly small. This helps in \\nto find voltage transformation ratio (K). \\nThe two components of no load current can be given as, \\n \\nIμ = I0sinΦ0   and    Iw = I0cosΦ0. \\ncosΦ0 (no load power factor) = W / (V1I0). ... (W = wattmeter reading) \\n \\nFrom this, shunt parameters of equivalent circuit parameters of equivalent circuit of transformer (X0 and R0) can \\nbe calculated as \\n \\nX0 = V1/Iμ  and  R0 = V1/Iw. \\n \\n(These values are referring to LV side of the transformer.) \\nHence, it is seen that open circuit test gives core losses of transformer and shunt parameters of the equivalent \\ncircuit. \\n \\nShort circuit or Impedance test on Transformer \\n \\nThe connection diagram for short circuit test or impedance test on transformer is as shown in the figure \\nbelow. The LV side of transformer is short circuited and wattmeter (W), voltmere (V) and ammeter (A) are \\nconnected on the HV side of the transformer. Voltage is applied to the HV side and increased from the zero \\nuntil the ammeter reading equals the rated current. All the readings are taken at this rated current. \\nThe ammeter reading gives primary equivalent of full load current (Isc). \\nThe voltage applied for full load current is very small as compared to rated voltage. Hence, core loss due to \\nsmall applied voltage can be neglected. Thus, the wattmeter reading can be taken as copper loss in the \\ntransformer. \\nTherefore, W = Isc2Req....... (where Req is the equivalent resistance of transformer) \\n Zeq = Vsc/Isc. \\nTherefore, equivalent reactance of transformer can be calculated from the formula  Zeq2 = Req2 + Xeq2. \\nThese, values are referred to the HV side of the transformer. \\nHence, it is seen that the short circuit test gives copper losses of transformer and approximate equivalent '),\n",
       "  Document(metadata={'source': 'Data\\\\transformer.pdf', 'page': 4, 'page_label': '5'}, page_content=\"resistance and reactance of the transformer. \\n \\nWhy Transformers are rated in kVA? \\nFrom the above transformer tests, it can be seen that Cu loss of a transformer depends on current, and \\niron loss depends on voltage. Thus, total transformer loss depends on volt-ampere (VA). It does not \\ndepend on the phase angle between voltage and current, i.e. transformer loss is independent of load \\npower factor. This is the reason that transformers are rated in kVA. \\nLosses in transformer \\n \\nIn any electrical machine, 'loss' can be defined as the difference between input power and output power. \\nAn electrical transformer is an static device, hence mechanical losses (like windage or friction losses) are absent \\nin it. A transformer only consists of electrical losses (iron losses and copper losses). Transformer losses are \\nsimilar to losses in a DC machine, except that transformers do not have mechanical losses. \\nLosses in transformer are explained below - \\n \\n(i) Core losses or Iron losses \\nEddy current loss and hysteresis loss depend upon the magnetic properties of the material used for the \\nconstruction of core. Hence these losses are also known as core losses or iron losses. \\n▪ Hysteresis loss in transformer: Hysteresis loss is due to reversal of magnetization in the transformer core. \\nThis loss depends upon the volume and grade of the iron, frequency of magnetic reversals and value of flux \\ndensity. It can be given by, Steinmetz formula: \\nWh= ηBmax1.6fV (watts) \\nwhere,   η = Steinmetz hysteresis constant \\n             V = volume of the core in m3 \\n▪ Eddy current loss in transformer: In transformer, AC current is supplied to the primary winding which \\nsets up alternating magnetizing flux. When this flux links with secondary winding, it produces induced emf \\nin it. But some part of this flux also gets linked with other conducting parts like steel core or iron body or \\nthe transformer, which will result in induced emf in those parts, causing small circulating current in them. \\nThis current is called as eddy current. Due to these eddy currents, some energy will be dissipated in the form \\nof heat. \\n (ii) Copper loss in transformer \\nCopper loss is due to ohmic resistance of the transformer windings.  Copper loss for the primary winding is \\nI12R1 and for secondary winding is I22R2. Where, I1 and I2 are current in primary and secondary winding \\n\"),\n",
       "  Document(metadata={'source': 'Data\\\\transformer.pdf', 'page': 5, 'page_label': '6'}, page_content='respectively, R1 and R2 are the resistances of primary and secondary winding respectively. It is clear that Cu \\nloss is proportional to square of the current, and current depends on the load. Hence copper loss in transformer \\nvaries with the load. \\n \\nEfficiency of Transformer \\n \\nJust like any other electrical machine, efficiency of a transformer can be defined as the output power divided \\nby the input power. That is  efficiency = output / input . \\nTransformers are the most highly efficient electrical devices. Most of the transformers have full load efficiency \\nbetween 95% to 98.5% . As a transformer being highly efficient, output and input are having nearly same value, \\nand hence it is impractical to measure the efficiency of transformer by using output / input. A better method to \\nfind efficiency of a transformer is using, efficiency = (input - losses) / input = 1 - (losses / input). \\nCondition for maximum efficiency \\nLet, \\nCopper loss = I12R1 \\nIron loss = Wi \\n \\n'),\n",
       "  Document(metadata={'source': 'Data\\\\transformer.pdf', 'page': 6, 'page_label': '7'}, page_content='Hence, efficiency of a transformer will be maximum when copper loss and iron losses are equal. \\nThat is Copper loss = Iron loss. \\nAll day efficiency of transformer \\n \\nAs we have seen above, ordinary or commercial efficiency of a transformer can be given as \\n \\n \\nBut in some types of transformers, their performance can not be judged by this efficiency. For example, \\ndistribution transformers have their primaries energized all the time. But, their secondaries supply little load all \\nno-load most of the time during day (as residential use of electricity is observed mostly during evening till \\nmidnight). \\nThat is, when secondaries of transformer are not supplying any load (or supplying only little load), then only \\ncore losses of transformer are considerable and copper losses are absent (or very little). Copper losses are \\nconsiderable only when transformers are loaded. Thus, for such transformers copper losses are relatively less \\nimportant.  The performance of such transformers is compared on the basis of energy consumed in one day. \\n \\nAll day efficiency of a transformer is always less than ordinary efficiency of it \\nEMF equation of a transformer and Voltage Transformation Ratio \\n \\nIn a transformer, source of alternating current is applied to the primary winding. Due to this, the current in the \\nprimary winding (called as magnetizing current) produces alternating flux in the core of transformer. This \\nalternating flux gets linked with the secondary winding, and because of the phenomenon of mutual induction an \\nemf gets induced in the secondary winding. Magnitude of this induced emf can be found by using the \\nfollowing EMF equation of the transformer. \\nEMF equation of the Transformer \\nLet, \\nN1 = Number of turns in primary winding \\nN2 = Number of turns in secondary winding \\nΦm = Maximum flux in the core (in Wb) = (Bm x A) \\nf = frequency of the AC supply (in Hz) \\n'),\n",
       "  Document(metadata={'source': 'Data\\\\transformer.pdf', 'page': 7, 'page_label': '8'}, page_content=' \\n \\nAs, shown in the fig., the flux rises sinusoidally to its maximum value Φm from 0. It reaches to the maximum \\nvalue in one quarter of the cycle i.e in T/4 sec (where, T is time period of the sin wave of the supply = 1/f). \\nTherefore, \\naverage rate of change of flux = Φm /(T/4)    = Φm /(1/4f) \\nTherefore, \\naverage rate of change of flux = 4f Φm       ....... (Wb/s). \\nNow, \\nInduced emf per turn = rate of change of flux per turn \\n \\nTherefore, average emf per turn = 4f Φm   ..........(Volts). Now, we know,  Form factor = RMS value / average \\nvalue \\nTherefore, RMS value of emf per turn = Form factor X average emf per turn. \\n \\nAs, the flux Φ varies sinusoidally, form factor of a sine wave is 1.11 \\nTherefore, RMS value of emf per turn =  1.11 x 4f Φm = 4.44f Φm. \\nRMS value of induced emf in whole primary winding (E1) = RMS value of emf per turn X Number of turns in \\nprimary winding \\n \\n          E1 = 4.44f N1 Φm          ............................. eq 1 \\nSimilarly, RMS induced emf in secondary winding (E2) can be given as \\n \\n          E2 = 4.44f N2 Φm.          ............................ eq 2 \\n \\nfrom the above equations 1 and 2, \\n \\nThis is called the emf equation of transformer, which shows, emf / number of turns is same for both primary \\nand secondary winding. \\n \\n'),\n",
       "  Document(metadata={'source': 'Data\\\\transformer.pdf', 'page': 8, 'page_label': '9'}, page_content='For an ideal transformer on no load, E1 = V1 and E2 = V2 . \\nwhere, V1 = supply voltage of primary winding \\n            V2 = terminal voltage of secondary winding \\nVoltage Transformation Ratio (K) \\nAs derived above, \\n \\nWhere, K = constant \\nThis constant K is known as voltage transformation ratio. \\n \\n▪ If N2 > N1, i.e. K > 1, then the transformer is called step-up transformer. \\n▪ If N2 < N1, i.e. K < 1, then the transformer is called step-down transformer. \\n▪  \\nEquivalent circuit of Transformer \\n \\nn a practical transformer - \\n(a) Some leakage flux is present at both primary and secondary sides. This leakage gives rise to leakage \\nreactances at both sides, which are denoted as X1 and X2 respectively. \\n(b) Both the primary and secondary winding possesses resistance, denoted as R1 and R2 respectively. These \\nresistances causes voltage drop as, I1R1 and I2R2 and also copper loss I12R1 and I22R2. \\n(c) Permeability of the core can not be infinite, hence some magnetizing current is needed. Mutual flux also \\ncauses core loss in iron parts of the transformer. \\nEquivalent circuit of transformer \\n \\nResistances and reactances of transformer, which are described above, can be imagined separately from the \\nwindings (as shown in the figure below). Hence, the function of windings, thereafter, will only be the \\ntransforming the voltage. \\n \\nThe no load current I0 is divided into, pure inductance X0 (taking magnetizing components Iμ) and non \\ninduction resistance R0 (taking working component Iw) which are connected into parallel across the primary. \\n'),\n",
       "  Document(metadata={'source': 'Data\\\\transformer.pdf', 'page': 9, 'page_label': '10'}, page_content=\"The value of E1 can be obtained by subtracting I1Z1 from V1. The value of R0 and X0 can be calculated as, R0 = \\nE1 / Iw and X0 = E1 / Iμ. \\nBut, using this equivalent circuit does not simplifies the calculations. To make calculations simpler, it is \\npreferable to transfer current, voltage and impedance either to primary side or to the secondary side. In that \\ncase, we would have to work with only one winding which is more convenient. \\n \\nFrom the voltage transformation ratio, it is clear that, \\nE1 / E2 = N1 / N2 = K \\n \\nNow, lets refer the parameters of secondary side to primary. \\nZ2 can be referred to primary as Z2' \\nwhere, Z2' = (N1/N2)2Z2 = K2Z2.   ............where K= N1/N2. \\nthat is, R2'+jX2' = K2(R2+jX2) \\nequating real and imaginary parts, \\nR2' =  K2R2 and X2' = K2X2 . \\nAnd V2' = KV2 \\nThe following figure shows the equivalent circuit of transformer with secondary parameters referred to \\nthe primary. \\n \\nNow, as the values of winding resistance and leakage reactance are so small that, V1 and E1 can be assumed to \\nbe equal. Therefore, the exciting current drawn by the parallel combination of  R0 and X0 would not affect \\nsignificantly, if we move it to the input terminals as shown in the figure below. \\n \\n\"),\n",
       "  Document(metadata={'source': 'Data\\\\transformer.pdf', 'page': 10, 'page_label': '11'}, page_content=\" \\nNow, let R1 + R2' = R'eq  and X1 + X2' = X'eq \\nThen the equivalent circuit of transformer becomes as shown in the figure below \\n \\nApproximate equivalent circuit of transformer \\nIf only voltage regulation is to be calculated, then even the whole excitation branch (parallel combination of R0 \\nand X0) can be neglected. Then the equivalent circuit becomes as shown in the figure below \\n \\nTransformer on No Load Condition \\nWhen the transformer is operating at no load, the secondary winding is open-circuited, which means there is no \\nload on the secondary side of the transformer and, therefore, current in the secondary will be zero. While \\nprimary winding carries a small current I0 called no-load current which is 2 to 10% of the rated current. \\nThis current is responsible for supplying the iron losses (hysteresis and eddy current losses) in the core and a \\nvery small amount of copper losses in the primary winding. The angle of lag depends upon the losses in the \\ntransformer. The power factor is very low and varies from 0.1 to 0.15. \\n\"),\n",
       "  Document(metadata={'source': 'Data\\\\transformer.pdf', 'page': 11, 'page_label': '12'}, page_content='The no-load current consists of two \\ncomponents: \\n• Reactive or magnetizing component Im \\n(It is in quadrature with the applied voltage V1. It produces flux in the core and does not consume any power). \\n• Active or power component Iw, also know as a working component \\n(It is in phase with the applied voltage V1. It supplies the iron losses and a small amount of primary copper \\nloss). \\nThe following steps are given below to draw the phasor diagram: \\n1. The function of the magnetizing component is to produce the magnetizing flux, and thus, it will be in phase \\nwith the flux. \\n2. Induced emf in the primary and the secondary winding lags the flux ϕ by 90 degrees. \\n3. The primary copper loss is neglected, and secondary current losses are zero as \\nI2 = 0. \\nTherefore, the current I0 lags behind the voltage vector V1 by an angle ϕ0 called the no-load power factor angle \\nand is shown in the phasor diagram above. \\n4. The applied voltage V1 is drawn equal and opposite to the induced emf E1 because the difference between the \\ntwo, at no load, is negligible. \\n5. Active component Iw is drawn in phase with the applied voltage V1. \\n6. The phasor sum of magnetizing current Im and the working current Iw gives the no-load current I0. \\n'),\n",
       "  Document(metadata={'source': 'Data\\\\transformer.pdf', 'page': 12, 'page_label': '13'}, page_content='7. From the phasor diagram drawn above, the following \\nconclusions are made  \\nTransformer On Load Condition \\nWhen the transformer is on the loaded condition, the secondary of the transformer is connected to load. The \\nload can be resistive, inductive or capacitive. The current I2 flows through the secondary winding of the \\ntransformer. The magnitude of the secondary current depends on the terminal voltage V2 and the load \\nimpedance. The phase angle between the secondary current and voltage depends on the nature of the load. \\nOperation of the Transformer on Load Condition \\nThe Operation of the Transformer on Load Condition is explained below: \\n• When the secondary of the transformer is kept open, it draws the no-load current from the main supply. The no-\\nload current induces the magnetomotive force N0I0 and this force set up the flux Φ in the core of the \\ntransformer. The circuit of the transformer at no load condition is shown in the figure below: \\n'),\n",
       "  Document(metadata={'source': 'Data\\\\transformer.pdf', 'page': 13, 'page_label': '14'}, page_content='•  \\no When the load is connected to the secondary of the transformer, I2 current flows through their secondary \\nwinding. The secondary current induces the magnetomotive force N2I2 on the secondary winding of the \\ntransformer. This force set up the flux φ2 in the transformer core. The flux φ2 opposes the flux φ, according \\nto Lenz’s law. \\n \\n▪ As the flux φ2 opposes the flux φ, the resultant flux of the transformer decreases and this flux reduces the \\ninduced EMF E1. Thus, the strength of the V1 is more than E1 and an additional primary current I’1 drawn from \\nthe main supply. \\nThe additional current is used for restoring the original value of the flux in the core of the transformer so that \\nV1 = E1. The primary current I’1 is in phase opposition with the secondary current I2. Thus, it is called \\nthe primary counter-balancing current. \\n▪ The additional current I’1 induces the magnetomotive force N1I’1. And this force set up the flux φ’1. The \\ndirection of the flux is the same as that of the φ and it cancels the flux φ2 which induces because of the MMF \\nN2I2 \\n'),\n",
       "  Document(metadata={'source': 'Data\\\\transformer.pdf', 'page': 14, 'page_label': '15'}, page_content='Now, N1I1’ = N2I2 \\nTherefore,  \\n• The phase difference between V1 and I1 gives the power factor angle ϕ1 of the primary side of the transformer. \\n• The power factor of the secondary side depends upon the type of load connected to the transformer. \\n• If the load is inductive as shown in the above phasor diagram, the power factor will be lagging, and if the load is \\ncapacitive, the power factor will be leading. The total primary current I1 is the vector sum of the currents I0 and \\nI1’. i.e \\n \\nPhasor Diagram of Transformer on Inductive Load \\nThe phasor diagram of the actual transformer when it is loaded inductively is shown below: \\n \\n'),\n",
       "  Document(metadata={'source': 'Data\\\\transformer.pdf', 'page': 15, 'page_label': '16'}, page_content='Phasor Diagram of the Transformer on Inductive Load \\nSteps to draw the phasor diagram \\n• Take flux ϕ, a reference \\n• Induces emf E1 and E2 lags the flux by 90 degrees. \\n• The component of the applied voltage to the primary equal and opposite to induced emf in the primary winding. \\nE1 is represented by V1’. \\n• Current I0 lags the voltage V1’ by 90 degrees. \\n• The power factor of the load is lagging. Therefore current I2 is drawn lagging E2 by an angle ϕ2. \\n• The resistance and the leakage reactance of the windings result in a voltage drop, and hence secondary terminal \\nvoltage V2 is the phase difference of E2 and voltage drop. \\nV2 = E2 – voltage drops \\nI2 R2 is in phase with I2 and I2X2 is in quadrature with I2. \\n• The total current flowing in the primary winding is the phasor sum of I1’ and I0. \\n• Primary applied voltage V1 is the phasor sum of V1’ and the voltage drop in the primary winding. \\n• Current I1’ is drawn equal and opposite to the current I2 \\nV1 = V1’ + voltage drop \\nI1R1 is in phase with I1 and I1XI is in quadrature with I1. \\n• The phasor difference between V1 and I1 gives the power factor angle ϕ1 of the primary side of the transformer. \\n• The power factor of the secondary side depends upon the type of load connected to the transformer. \\n• If the load is inductive as shown in the above phasor diagram, the power factor will be lagging, and if the load is \\ncapacitive, the power factor will be leading.       Where I1R1 is the resistive drop in the primary windings \\nI2X2 is the reactive drop in the secondary winding \\nSimilarly \\nPhasor Diagram of Transformer on Capacitive Load \\nThe Transformer on the Capacitive load (leading power factor load) is shown below in the phasor diagram. \\nSteps to draw the phasor diagram at capacitive load \\n• Take flux ϕ a reference \\n• Induces emf E1 and E2 lags the flux by 90 degrees. \\n• The component of the applied voltage to the primary equal and opposite to induced emf in the primary winding. \\nE1 is represented by V1’. \\n• Current I0 lags the voltage V1’ by 90 degrees. \\n• The power factor of the load is leading. Therefore current I2 is drawn leading E2 \\n• The resistance and the leakage reactance of the windings result in a voltage drop, and hence secondary terminal \\nvoltage V2 is the phasor difference of E2 and voltage drop. \\nV2 = E2 – voltage drops \\nI2 R2 is in phase with I2 and I2X2 is in quadrature with I2. \\n• Current I1’ is drawn equal and opposite to the current I2 '),\n",
       "  Document(metadata={'source': 'Data\\\\transformer.pdf', 'page': 16, 'page_label': '17'}, page_content='• The total current I1 flowing in the primary winding is the phasor sum of I1’ and I0. \\n• Primary applied voltage V1 is the phasor sum of V1’ and the voltage drop in the primary winding. \\nV1 = V1’ + voltage drop \\nI1R1 is in phase with I1 and I1XI is in quadrature with I1. \\n• The phasor difference between V1 and I1 gives the power factor angle ϕ1 of the primary side of the transformer. \\n• The power factor of the secondary side depends upon the type of load connected to the transformer. \\nThis is all about the phasor diagram on various loads. \\n \\n \\nPhasor Diagram of the Transformer on Capacitive Load \\n \\n \\n')],\n",
       " 'number': 5,\n",
       " 'subject': 'Transformer',\n",
       " 'tone': 'simple',\n",
       " 'response_json': '{\"1\": {\"mcq\": \"multiple choice question\", \"options\": {\"a\": \"choice here\", \"b\": \"choice here\", \"c\": \"choice here\", \"d\": \"choice here\"}, \"correct\": \"correct answer\"}, \"2\": {\"mcq\": \"multiple choice question\", \"options\": {\"a\": \"choice here\", \"b\": \"choice here\", \"c\": \"choice here\", \"d\": \"choice here\"}, \"correct\": \"correct answer\"}, \"3\": {\"mcq\": \"multiple choice question\", \"options\": {\"a\": \"choice here\", \"b\": \"choice here\", \"c\": \"choice here\", \"d\": \"choice here\"}, \"correct\": \"correct answer\"}}',\n",
       " 'quiz': '```json\\n{\\n\"1\": {\\n\"mcq\": \"What is the basic principle behind the working of a transformer?\",\\n\"options\": {\\n\"a\": \"Electromagnetic repulsion\",\\n\"b\": \"Mutual induction between two windings\",\\n\"c\": \"Static electricity\",\\n\"d\": \"Chemical reactions\"\\n},\\n\"correct\": \"b\"\\n},\\n\"2\": {\\n\"mcq\": \"Which of the following is NOT a type of transformer based on construction?\",\\n\"options\": {\\n\"a\": \"Core type transformer\",\\n\"b\": \"Shell type transformer\",\\n\"c\": \"Ring type transformer\",\\n\"d\": \"All of the above\"\\n},\\n\"correct\": \"c\"\\n},\\n\"3\": {\\n\"mcq\": \"What is the purpose of the open circuit test on a transformer?\",\\n\"options\": {\\n\"a\": \"To determine copper losses\",\\n\"b\": \"To determine core losses\",\\n\"c\": \"To determine the equivalent resistance\",\\n\"d\": \"To determine the voltage transformation ratio\"\\n},\\n\"correct\": \"b\"\\n},\\n\"4\": {\\n\"mcq\": \"Why are transformers rated in kVA instead of kW?\",\\n\"options\": {\\n\"a\": \"Because the current is always AC\",\\n\"b\": \"Because the losses depend on volt-ampere (VA) and not the power factor\",\\n\"c\": \"Because kW is too small a unit\",\\n\"d\": \"To confuse students\"\\n},\\n\"correct\": \"b\"\\n},\\n\"5\": {\\n\"mcq\": \"Under what condition is the efficiency of a transformer at its maximum?\",\\n\"options\": {\\n\"a\": \"When the load is at its maximum\",\\n\"b\": \"When the copper losses are equal to the iron losses\",\\n\"c\": \"When the input voltage is at its minimum\",\\n\"d\": \"When the transformer is not loaded\"\\n},\\n\"correct\": \"b\"\\n}\\n}\\n```',\n",
       " 'review': '```json\\n{\\n\"1\": {\\n\"mcq\": \"What is the basic principle behind the working of a transformer?\",\\n\"options\": {\\n\"a\": \"Electromagnetic radiation\",\\n\"b\": \"Mutual induction between two windings\",\\n\"c\": \"Static electricity\",\\n\"d\": \"Chemical reactions\"\\n},\\n\"correct\": \"b\"\\n},\\n\"2\": {\\n\"mcq\": \"Which type of transformer has its low voltage windings placed nearer to the core?\",\\n\"options\": {\\n\"a\": \"Shell type transformer\",\\n\"b\": \"Core type transformer\",\\n\"c\": \"Distribution transformer\",\\n\"d\": \"Instrument transformer\"\\n},\\n\"correct\": \"b\"\\n},\\n\"3\": {\\n\"mcq\": \"What is the purpose of performing an open circuit test on a transformer?\",\\n\"options\": {\\n\"a\": \"To determine copper losses\",\\n\"b\": \"To determine core losses\",\\n\"c\": \"To determine the equivalent resistance\",\\n\"d\": \"To determine the equivalent reactance\"\\n},\\n\"correct\": \"b\"\\n},\\n\"4\": {\\n\"mcq\": \"Why are transformers rated in kVA instead of kW?\",\\n\"options\": {\\n\"a\": \"Because the current is always alternating\",\\n\"b\": \"Because the losses depend on volt-ampere (VA) and not the power factor\",\\n\"c\": \"Because it\\'s a standard industry practice\",\\n\"d\": \"To simplify calculations\"\\n},\\n\"correct\": \"b\"\\n},\\n\"5\": {\\n\"mcq\": \"Under what condition is the efficiency of a transformer at its maximum?\",\\n\"options\": {\\n\"a\": \"When the load is at its minimum\",\\n\"b\": \"When copper losses are equal to iron losses\",\\n\"c\": \"When the voltage is at its maximum\",\\n\"d\": \"When the current is at its minimum\"\\n},\\n\"correct\": \"b\"\\n}\\n}\\n```'}"
      ]
     },
     "execution_count": 20,
     "metadata": {},
     "output_type": "execute_result"
    }
   ],
   "source": [
    "response"
   ]
  },
  {
   "cell_type": "code",
   "execution_count": 21,
   "metadata": {},
   "outputs": [
    {
     "name": "stdout",
     "output_type": "stream",
     "text": [
      "Total Tokens:14942\n",
      "Prompt Tokens:14076\n",
      "Completion Tokens:866\n",
      "Total Cost:0.0\n"
     ]
    }
   ],
   "source": [
    "print(f\"Total Tokens:{cb.total_tokens}\")\n",
    "print(f\"Prompt Tokens:{cb.prompt_tokens}\")\n",
    "print(f\"Completion Tokens:{cb.completion_tokens}\")\n",
    "print(f\"Total Cost:{cb.total_cost}\")"
   ]
  },
  {
   "cell_type": "code",
   "execution_count": 22,
   "metadata": {},
   "outputs": [],
   "source": [
    "quiz=response.get(\"quiz\")"
   ]
  },
  {
   "cell_type": "code",
   "execution_count": 23,
   "metadata": {},
   "outputs": [
    {
     "data": {
      "text/plain": [
       "'```json\\n{\\n\"1\": {\\n\"mcq\": \"What is the basic principle behind the working of a transformer?\",\\n\"options\": {\\n\"a\": \"Electromagnetic repulsion\",\\n\"b\": \"Mutual induction between two windings\",\\n\"c\": \"Static electricity\",\\n\"d\": \"Chemical reactions\"\\n},\\n\"correct\": \"b\"\\n},\\n\"2\": {\\n\"mcq\": \"Which of the following is NOT a type of transformer based on construction?\",\\n\"options\": {\\n\"a\": \"Core type transformer\",\\n\"b\": \"Shell type transformer\",\\n\"c\": \"Ring type transformer\",\\n\"d\": \"All of the above\"\\n},\\n\"correct\": \"c\"\\n},\\n\"3\": {\\n\"mcq\": \"What is the purpose of the open circuit test on a transformer?\",\\n\"options\": {\\n\"a\": \"To determine copper losses\",\\n\"b\": \"To determine core losses\",\\n\"c\": \"To determine the equivalent resistance\",\\n\"d\": \"To determine the voltage transformation ratio\"\\n},\\n\"correct\": \"b\"\\n},\\n\"4\": {\\n\"mcq\": \"Why are transformers rated in kVA instead of kW?\",\\n\"options\": {\\n\"a\": \"Because the current is always AC\",\\n\"b\": \"Because the losses depend on volt-ampere (VA) and not the power factor\",\\n\"c\": \"Because kW is too small a unit\",\\n\"d\": \"To confuse students\"\\n},\\n\"correct\": \"b\"\\n},\\n\"5\": {\\n\"mcq\": \"Under what condition is the efficiency of a transformer at its maximum?\",\\n\"options\": {\\n\"a\": \"When the load is at its maximum\",\\n\"b\": \"When the copper losses are equal to the iron losses\",\\n\"c\": \"When the input voltage is at its minimum\",\\n\"d\": \"When the transformer is not loaded\"\\n},\\n\"correct\": \"b\"\\n}\\n}\\n```'"
      ]
     },
     "execution_count": 23,
     "metadata": {},
     "output_type": "execute_result"
    }
   ],
   "source": [
    "quiz"
   ]
  },
  {
   "cell_type": "code",
   "execution_count": 24,
   "metadata": {},
   "outputs": [],
   "source": [
    "# Remove the leading and trailing Markdown code block formatting (```json and ```)\n",
    "quiz = quiz.strip().replace('```json', '').replace('```', '')"
   ]
  },
  {
   "cell_type": "code",
   "execution_count": 25,
   "metadata": {},
   "outputs": [
    {
     "data": {
      "text/plain": [
       "'\\n{\\n\"1\": {\\n\"mcq\": \"What is the basic principle behind the working of a transformer?\",\\n\"options\": {\\n\"a\": \"Electromagnetic repulsion\",\\n\"b\": \"Mutual induction between two windings\",\\n\"c\": \"Static electricity\",\\n\"d\": \"Chemical reactions\"\\n},\\n\"correct\": \"b\"\\n},\\n\"2\": {\\n\"mcq\": \"Which of the following is NOT a type of transformer based on construction?\",\\n\"options\": {\\n\"a\": \"Core type transformer\",\\n\"b\": \"Shell type transformer\",\\n\"c\": \"Ring type transformer\",\\n\"d\": \"All of the above\"\\n},\\n\"correct\": \"c\"\\n},\\n\"3\": {\\n\"mcq\": \"What is the purpose of the open circuit test on a transformer?\",\\n\"options\": {\\n\"a\": \"To determine copper losses\",\\n\"b\": \"To determine core losses\",\\n\"c\": \"To determine the equivalent resistance\",\\n\"d\": \"To determine the voltage transformation ratio\"\\n},\\n\"correct\": \"b\"\\n},\\n\"4\": {\\n\"mcq\": \"Why are transformers rated in kVA instead of kW?\",\\n\"options\": {\\n\"a\": \"Because the current is always AC\",\\n\"b\": \"Because the losses depend on volt-ampere (VA) and not the power factor\",\\n\"c\": \"Because kW is too small a unit\",\\n\"d\": \"To confuse students\"\\n},\\n\"correct\": \"b\"\\n},\\n\"5\": {\\n\"mcq\": \"Under what condition is the efficiency of a transformer at its maximum?\",\\n\"options\": {\\n\"a\": \"When the load is at its maximum\",\\n\"b\": \"When the copper losses are equal to the iron losses\",\\n\"c\": \"When the input voltage is at its minimum\",\\n\"d\": \"When the transformer is not loaded\"\\n},\\n\"correct\": \"b\"\\n}\\n}\\n'"
      ]
     },
     "execution_count": 25,
     "metadata": {},
     "output_type": "execute_result"
    }
   ],
   "source": [
    "quiz"
   ]
  },
  {
   "cell_type": "code",
   "execution_count": 26,
   "metadata": {},
   "outputs": [
    {
     "data": {
      "text/plain": [
       "str"
      ]
     },
     "execution_count": 26,
     "metadata": {},
     "output_type": "execute_result"
    }
   ],
   "source": [
    "type(quiz)"
   ]
  },
  {
   "cell_type": "code",
   "execution_count": 27,
   "metadata": {},
   "outputs": [],
   "source": [
    "# Convert from str to dict\n",
    "quiz=json.loads(quiz)"
   ]
  },
  {
   "cell_type": "code",
   "execution_count": 28,
   "metadata": {},
   "outputs": [
    {
     "data": {
      "text/plain": [
       "dict"
      ]
     },
     "execution_count": 28,
     "metadata": {},
     "output_type": "execute_result"
    }
   ],
   "source": [
    "type(quiz)"
   ]
  },
  {
   "cell_type": "code",
   "execution_count": 29,
   "metadata": {},
   "outputs": [],
   "source": [
    "quiz_table_data = []\n",
    "for key, value in quiz.items():\n",
    "    mcq = value[\"mcq\"]\n",
    "    options = \" | \".join(\n",
    "        [\n",
    "            f\"{option}: {option_value}\"\n",
    "            for option, option_value in value[\"options\"].items()\n",
    "            ]\n",
    "        )\n",
    "    correct = value[\"correct\"]\n",
    "    quiz_table_data.append({\"MCQ\": mcq, \"Choices\": options, \"Correct\": correct})"
   ]
  },
  {
   "cell_type": "code",
   "execution_count": 30,
   "metadata": {},
   "outputs": [
    {
     "data": {
      "text/plain": [
       "[{'MCQ': 'What is the basic principle behind the working of a transformer?',\n",
       "  'Choices': 'a: Electromagnetic repulsion | b: Mutual induction between two windings | c: Static electricity | d: Chemical reactions',\n",
       "  'Correct': 'b'},\n",
       " {'MCQ': 'Which of the following is NOT a type of transformer based on construction?',\n",
       "  'Choices': 'a: Core type transformer | b: Shell type transformer | c: Ring type transformer | d: All of the above',\n",
       "  'Correct': 'c'},\n",
       " {'MCQ': 'What is the purpose of the open circuit test on a transformer?',\n",
       "  'Choices': 'a: To determine copper losses | b: To determine core losses | c: To determine the equivalent resistance | d: To determine the voltage transformation ratio',\n",
       "  'Correct': 'b'},\n",
       " {'MCQ': 'Why are transformers rated in kVA instead of kW?',\n",
       "  'Choices': 'a: Because the current is always AC | b: Because the losses depend on volt-ampere (VA) and not the power factor | c: Because kW is too small a unit | d: To confuse students',\n",
       "  'Correct': 'b'},\n",
       " {'MCQ': 'Under what condition is the efficiency of a transformer at its maximum?',\n",
       "  'Choices': 'a: When the load is at its maximum | b: When the copper losses are equal to the iron losses | c: When the input voltage is at its minimum | d: When the transformer is not loaded',\n",
       "  'Correct': 'b'}]"
      ]
     },
     "execution_count": 30,
     "metadata": {},
     "output_type": "execute_result"
    }
   ],
   "source": [
    "quiz_table_data"
   ]
  },
  {
   "cell_type": "code",
   "execution_count": 31,
   "metadata": {},
   "outputs": [],
   "source": [
    "# Convert to dataframe\n",
    "quiz=pd.DataFrame(quiz_table_data)"
   ]
  },
  {
   "cell_type": "code",
   "execution_count": 32,
   "metadata": {},
   "outputs": [
    {
     "data": {
      "text/html": [
       "<div>\n",
       "<style scoped>\n",
       "    .dataframe tbody tr th:only-of-type {\n",
       "        vertical-align: middle;\n",
       "    }\n",
       "\n",
       "    .dataframe tbody tr th {\n",
       "        vertical-align: top;\n",
       "    }\n",
       "\n",
       "    .dataframe thead th {\n",
       "        text-align: right;\n",
       "    }\n",
       "</style>\n",
       "<table border=\"1\" class=\"dataframe\">\n",
       "  <thead>\n",
       "    <tr style=\"text-align: right;\">\n",
       "      <th></th>\n",
       "      <th>MCQ</th>\n",
       "      <th>Choices</th>\n",
       "      <th>Correct</th>\n",
       "    </tr>\n",
       "  </thead>\n",
       "  <tbody>\n",
       "    <tr>\n",
       "      <th>0</th>\n",
       "      <td>What is the basic principle behind the working...</td>\n",
       "      <td>a: Electromagnetic repulsion | b: Mutual induc...</td>\n",
       "      <td>b</td>\n",
       "    </tr>\n",
       "    <tr>\n",
       "      <th>1</th>\n",
       "      <td>Which of the following is NOT a type of transf...</td>\n",
       "      <td>a: Core type transformer | b: Shell type trans...</td>\n",
       "      <td>c</td>\n",
       "    </tr>\n",
       "    <tr>\n",
       "      <th>2</th>\n",
       "      <td>What is the purpose of the open circuit test o...</td>\n",
       "      <td>a: To determine copper losses | b: To determin...</td>\n",
       "      <td>b</td>\n",
       "    </tr>\n",
       "    <tr>\n",
       "      <th>3</th>\n",
       "      <td>Why are transformers rated in kVA instead of kW?</td>\n",
       "      <td>a: Because the current is always AC | b: Becau...</td>\n",
       "      <td>b</td>\n",
       "    </tr>\n",
       "    <tr>\n",
       "      <th>4</th>\n",
       "      <td>Under what condition is the efficiency of a tr...</td>\n",
       "      <td>a: When the load is at its maximum | b: When t...</td>\n",
       "      <td>b</td>\n",
       "    </tr>\n",
       "  </tbody>\n",
       "</table>\n",
       "</div>"
      ],
      "text/plain": [
       "                                                 MCQ  \\\n",
       "0  What is the basic principle behind the working...   \n",
       "1  Which of the following is NOT a type of transf...   \n",
       "2  What is the purpose of the open circuit test o...   \n",
       "3   Why are transformers rated in kVA instead of kW?   \n",
       "4  Under what condition is the efficiency of a tr...   \n",
       "\n",
       "                                             Choices Correct  \n",
       "0  a: Electromagnetic repulsion | b: Mutual induc...       b  \n",
       "1  a: Core type transformer | b: Shell type trans...       c  \n",
       "2  a: To determine copper losses | b: To determin...       b  \n",
       "3  a: Because the current is always AC | b: Becau...       b  \n",
       "4  a: When the load is at its maximum | b: When t...       b  "
      ]
     },
     "execution_count": 32,
     "metadata": {},
     "output_type": "execute_result"
    }
   ],
   "source": [
    "quiz"
   ]
  },
  {
   "cell_type": "code",
   "execution_count": 33,
   "metadata": {},
   "outputs": [],
   "source": [
    "quiz.to_csv(\"data/quiz.csv\",index=False) # save in data folder"
   ]
  },
  {
   "cell_type": "code",
   "execution_count": null,
   "metadata": {},
   "outputs": [],
   "source": []
  },
  {
   "cell_type": "code",
   "execution_count": null,
   "metadata": {},
   "outputs": [],
   "source": []
  }
 ],
 "metadata": {
  "kernelspec": {
   "display_name": "ten",
   "language": "python",
   "name": "python3"
  },
  "language_info": {
   "codemirror_mode": {
    "name": "ipython",
    "version": 3
   },
   "file_extension": ".py",
   "mimetype": "text/x-python",
   "name": "python",
   "nbconvert_exporter": "python",
   "pygments_lexer": "ipython3",
   "version": "3.10.15"
  }
 },
 "nbformat": 4,
 "nbformat_minor": 2
}
